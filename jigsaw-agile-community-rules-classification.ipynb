{
 "cells": [
  {
   "cell_type": "code",
   "execution_count": 1,
   "id": "25ea9b5c",
   "metadata": {
    "_cell_guid": "b1076dfc-b9ad-4769-8c92-a6c4dae69d19",
    "_uuid": "8f2839f25d086af736a60e9eeb907d3b93b6e0e5",
    "execution": {
     "iopub.execute_input": "2025-07-29T19:50:07.989845Z",
     "iopub.status.busy": "2025-07-29T19:50:07.989371Z",
     "iopub.status.idle": "2025-07-29T19:50:10.372104Z",
     "shell.execute_reply": "2025-07-29T19:50:10.370896Z"
    },
    "papermill": {
     "duration": 2.39058,
     "end_time": "2025-07-29T19:50:10.373906",
     "exception": false,
     "start_time": "2025-07-29T19:50:07.983326",
     "status": "completed"
    },
    "tags": []
   },
   "outputs": [
    {
     "name": "stdout",
     "output_type": "stream",
     "text": [
      "/kaggle/input/jigsaw-agile-community-rules/sample_submission.csv\n",
      "/kaggle/input/jigsaw-agile-community-rules/train.csv\n",
      "/kaggle/input/jigsaw-agile-community-rules/test.csv\n"
     ]
    }
   ],
   "source": [
    "import numpy as np # linear algebra\n",
    "import pandas as pd # data processing, CSV file I/O (e.g. pd.read_csv)\n",
    "\n",
    "\n",
    "import os\n",
    "for dirname, _, filenames in os.walk('/kaggle/input'):\n",
    "    for filename in filenames:\n",
    "        print(os.path.join(dirname, filename))"
   ]
  },
  {
   "cell_type": "markdown",
   "id": "b5f96acc",
   "metadata": {
    "papermill": {
     "duration": 0.002324,
     "end_time": "2025-07-29T19:50:10.379519",
     "exception": false,
     "start_time": "2025-07-29T19:50:10.377195",
     "status": "completed"
    },
    "tags": []
   },
   "source": [
    "# DATA"
   ]
  },
  {
   "cell_type": "code",
   "execution_count": 2,
   "id": "e1de6170",
   "metadata": {
    "execution": {
     "iopub.execute_input": "2025-07-29T19:50:10.386011Z",
     "iopub.status.busy": "2025-07-29T19:50:10.385531Z",
     "iopub.status.idle": "2025-07-29T19:50:10.515529Z",
     "shell.execute_reply": "2025-07-29T19:50:10.514417Z"
    },
    "papermill": {
     "duration": 0.135462,
     "end_time": "2025-07-29T19:50:10.517505",
     "exception": false,
     "start_time": "2025-07-29T19:50:10.382043",
     "status": "completed"
    },
    "tags": []
   },
   "outputs": [
    {
     "data": {
      "text/html": [
       "<div>\n",
       "<style scoped>\n",
       "    .dataframe tbody tr th:only-of-type {\n",
       "        vertical-align: middle;\n",
       "    }\n",
       "\n",
       "    .dataframe tbody tr th {\n",
       "        vertical-align: top;\n",
       "    }\n",
       "\n",
       "    .dataframe thead th {\n",
       "        text-align: right;\n",
       "    }\n",
       "</style>\n",
       "<table border=\"1\" class=\"dataframe\">\n",
       "  <thead>\n",
       "    <tr style=\"text-align: right;\">\n",
       "      <th></th>\n",
       "      <th>row_id</th>\n",
       "      <th>body</th>\n",
       "      <th>rule</th>\n",
       "      <th>subreddit</th>\n",
       "      <th>positive_example_1</th>\n",
       "      <th>positive_example_2</th>\n",
       "      <th>negative_example_1</th>\n",
       "      <th>negative_example_2</th>\n",
       "      <th>rule_violation</th>\n",
       "    </tr>\n",
       "  </thead>\n",
       "  <tbody>\n",
       "    <tr>\n",
       "      <th>0</th>\n",
       "      <td>0</td>\n",
       "      <td>Banks don't want you to know this! Click here ...</td>\n",
       "      <td>No Advertising: Spam, referral links, unsolici...</td>\n",
       "      <td>Futurology</td>\n",
       "      <td>If you could tell your younger self something ...</td>\n",
       "      <td>hunt for lady for jack off in neighbourhood ht...</td>\n",
       "      <td>Watch Golden Globe Awards 2017 Live Online in ...</td>\n",
       "      <td>DOUBLE CEE x BANDS EPPS - \"BIRDS\"\\n\\nDOWNLOAD/...</td>\n",
       "      <td>0</td>\n",
       "    </tr>\n",
       "    <tr>\n",
       "      <th>1</th>\n",
       "      <td>1</td>\n",
       "      <td>SD Stream [ ENG Link 1] (http://www.sportsstre...</td>\n",
       "      <td>No Advertising: Spam, referral links, unsolici...</td>\n",
       "      <td>soccerstreams</td>\n",
       "      <td>[I wanna kiss you all over! Stunning!](http://...</td>\n",
       "      <td>LOLGA.COM is One of the First Professional Onl...</td>\n",
       "      <td>#Rapper \\n🚨Straight Outta Cross Keys SC 🚨YouTu...</td>\n",
       "      <td>[15 Amazing Hidden Features Of Google Search Y...</td>\n",
       "      <td>0</td>\n",
       "    </tr>\n",
       "    <tr>\n",
       "      <th>2</th>\n",
       "      <td>2</td>\n",
       "      <td>Lol. Try appealing the ban and say you won't d...</td>\n",
       "      <td>No legal advice: Do not offer or request legal...</td>\n",
       "      <td>pcmasterrace</td>\n",
       "      <td>Don't break up with him or call the cops.  If ...</td>\n",
       "      <td>It'll be dismissed: https://en.wikipedia.org/w...</td>\n",
       "      <td>Where is there a site that still works where y...</td>\n",
       "      <td>Because this statement of his is true. It isn'...</td>\n",
       "      <td>1</td>\n",
       "    </tr>\n",
       "    <tr>\n",
       "      <th>3</th>\n",
       "      <td>3</td>\n",
       "      <td>she will come your home open her legs with  an...</td>\n",
       "      <td>No Advertising: Spam, referral links, unsolici...</td>\n",
       "      <td>sex</td>\n",
       "      <td>Selling Tyrande codes for 3€ to paypal. PM. \\n...</td>\n",
       "      <td>tight pussy watch for your cock get her at thi...</td>\n",
       "      <td>NSFW(obviously) http://spankbang.com/iy3u/vide...</td>\n",
       "      <td>Good News ::Download WhatsApp 2.16.230 APK for...</td>\n",
       "      <td>1</td>\n",
       "    </tr>\n",
       "    <tr>\n",
       "      <th>4</th>\n",
       "      <td>4</td>\n",
       "      <td>code free tyrande ---&gt;&gt;&gt; [Imgur](http://i.imgu...</td>\n",
       "      <td>No Advertising: Spam, referral links, unsolici...</td>\n",
       "      <td>hearthstone</td>\n",
       "      <td>wow!! amazing reminds me of the old days.Well...</td>\n",
       "      <td>seek for lady for sex in around http://p77.pl/...</td>\n",
       "      <td>must be watch movie https://sites.google.com/s...</td>\n",
       "      <td>We're streaming Pokemon Veitnamese Crystal RIG...</td>\n",
       "      <td>1</td>\n",
       "    </tr>\n",
       "  </tbody>\n",
       "</table>\n",
       "</div>"
      ],
      "text/plain": [
       "   row_id                                               body  \\\n",
       "0       0  Banks don't want you to know this! Click here ...   \n",
       "1       1  SD Stream [ ENG Link 1] (http://www.sportsstre...   \n",
       "2       2  Lol. Try appealing the ban and say you won't d...   \n",
       "3       3  she will come your home open her legs with  an...   \n",
       "4       4  code free tyrande --->>> [Imgur](http://i.imgu...   \n",
       "\n",
       "                                                rule      subreddit  \\\n",
       "0  No Advertising: Spam, referral links, unsolici...     Futurology   \n",
       "1  No Advertising: Spam, referral links, unsolici...  soccerstreams   \n",
       "2  No legal advice: Do not offer or request legal...   pcmasterrace   \n",
       "3  No Advertising: Spam, referral links, unsolici...            sex   \n",
       "4  No Advertising: Spam, referral links, unsolici...    hearthstone   \n",
       "\n",
       "                                  positive_example_1  \\\n",
       "0  If you could tell your younger self something ...   \n",
       "1  [I wanna kiss you all over! Stunning!](http://...   \n",
       "2  Don't break up with him or call the cops.  If ...   \n",
       "3  Selling Tyrande codes for 3€ to paypal. PM. \\n...   \n",
       "4   wow!! amazing reminds me of the old days.Well...   \n",
       "\n",
       "                                  positive_example_2  \\\n",
       "0  hunt for lady for jack off in neighbourhood ht...   \n",
       "1  LOLGA.COM is One of the First Professional Onl...   \n",
       "2  It'll be dismissed: https://en.wikipedia.org/w...   \n",
       "3  tight pussy watch for your cock get her at thi...   \n",
       "4  seek for lady for sex in around http://p77.pl/...   \n",
       "\n",
       "                                  negative_example_1  \\\n",
       "0  Watch Golden Globe Awards 2017 Live Online in ...   \n",
       "1  #Rapper \\n🚨Straight Outta Cross Keys SC 🚨YouTu...   \n",
       "2  Where is there a site that still works where y...   \n",
       "3  NSFW(obviously) http://spankbang.com/iy3u/vide...   \n",
       "4  must be watch movie https://sites.google.com/s...   \n",
       "\n",
       "                                  negative_example_2  rule_violation  \n",
       "0  DOUBLE CEE x BANDS EPPS - \"BIRDS\"\\n\\nDOWNLOAD/...               0  \n",
       "1  [15 Amazing Hidden Features Of Google Search Y...               0  \n",
       "2  Because this statement of his is true. It isn'...               1  \n",
       "3  Good News ::Download WhatsApp 2.16.230 APK for...               1  \n",
       "4  We're streaming Pokemon Veitnamese Crystal RIG...               1  "
      ]
     },
     "execution_count": 2,
     "metadata": {},
     "output_type": "execute_result"
    }
   ],
   "source": [
    "df_train = pd.read_csv('/kaggle/input/jigsaw-agile-community-rules/train.csv')\n",
    "df_test = pd.read_csv('/kaggle/input/jigsaw-agile-community-rules/test.csv')\n",
    "\n",
    "df_rules = pd.read_csv('/kaggle/input/jigsaw-agile-community-rules/sample_submission.csv')\n",
    "\n",
    "df_train.head()"
   ]
  },
  {
   "cell_type": "code",
   "execution_count": 3,
   "id": "25a3d0b7",
   "metadata": {
    "execution": {
     "iopub.execute_input": "2025-07-29T19:50:10.524725Z",
     "iopub.status.busy": "2025-07-29T19:50:10.524430Z",
     "iopub.status.idle": "2025-07-29T19:50:10.543084Z",
     "shell.execute_reply": "2025-07-29T19:50:10.541872Z"
    },
    "papermill": {
     "duration": 0.024239,
     "end_time": "2025-07-29T19:50:10.544838",
     "exception": false,
     "start_time": "2025-07-29T19:50:10.520599",
     "status": "completed"
    },
    "tags": []
   },
   "outputs": [
    {
     "data": {
      "text/plain": [
       "rule_violation\n",
       "1    0.508132\n",
       "0    0.491868\n",
       "Name: proportion, dtype: float64"
      ]
     },
     "execution_count": 3,
     "metadata": {},
     "output_type": "execute_result"
    }
   ],
   "source": [
    "df_train['rule_violation'].value_counts(normalize=True)"
   ]
  },
  {
   "cell_type": "code",
   "execution_count": 4,
   "id": "17767008",
   "metadata": {
    "execution": {
     "iopub.execute_input": "2025-07-29T19:50:10.552250Z",
     "iopub.status.busy": "2025-07-29T19:50:10.551940Z",
     "iopub.status.idle": "2025-07-29T19:50:10.560834Z",
     "shell.execute_reply": "2025-07-29T19:50:10.559862Z"
    },
    "papermill": {
     "duration": 0.014273,
     "end_time": "2025-07-29T19:50:10.562273",
     "exception": false,
     "start_time": "2025-07-29T19:50:10.548000",
     "status": "completed"
    },
    "tags": []
   },
   "outputs": [
    {
     "data": {
      "text/plain": [
       "row_id                0\n",
       "body                  0\n",
       "rule                  0\n",
       "subreddit             0\n",
       "positive_example_1    0\n",
       "positive_example_2    0\n",
       "negative_example_1    0\n",
       "negative_example_2    0\n",
       "rule_violation        0\n",
       "dtype: int64"
      ]
     },
     "execution_count": 4,
     "metadata": {},
     "output_type": "execute_result"
    }
   ],
   "source": [
    "df_train.isnull().sum()"
   ]
  },
  {
   "cell_type": "code",
   "execution_count": 5,
   "id": "10ae1fc5",
   "metadata": {
    "execution": {
     "iopub.execute_input": "2025-07-29T19:50:10.570525Z",
     "iopub.status.busy": "2025-07-29T19:50:10.569894Z",
     "iopub.status.idle": "2025-07-29T19:50:10.591000Z",
     "shell.execute_reply": "2025-07-29T19:50:10.589778Z"
    },
    "papermill": {
     "duration": 0.0274,
     "end_time": "2025-07-29T19:50:10.592739",
     "exception": false,
     "start_time": "2025-07-29T19:50:10.565339",
     "status": "completed"
    },
    "tags": []
   },
   "outputs": [
    {
     "data": {
      "text/plain": [
       "count    2029.00000\n",
       "mean      176.84278\n",
       "std       113.62391\n",
       "min        51.00000\n",
       "25%        87.00000\n",
       "50%       138.00000\n",
       "75%       238.00000\n",
       "max       499.00000\n",
       "Name: body_length, dtype: float64"
      ]
     },
     "execution_count": 5,
     "metadata": {},
     "output_type": "execute_result"
    }
   ],
   "source": [
    "df_train['body_length'] = df_train['body'].apply(len)\n",
    "df_train['body_length'].describe()"
   ]
  },
  {
   "cell_type": "code",
   "execution_count": 6,
   "id": "5a1bb6dc",
   "metadata": {
    "execution": {
     "iopub.execute_input": "2025-07-29T19:50:10.600403Z",
     "iopub.status.busy": "2025-07-29T19:50:10.599975Z",
     "iopub.status.idle": "2025-07-29T19:50:13.541917Z",
     "shell.execute_reply": "2025-07-29T19:50:13.540903Z"
    },
    "papermill": {
     "duration": 2.949252,
     "end_time": "2025-07-29T19:50:13.545005",
     "exception": false,
     "start_time": "2025-07-29T19:50:10.595753",
     "status": "completed"
    },
    "tags": []
   },
   "outputs": [
    {
     "name": "stdout",
     "output_type": "stream",
     "text": [
      "Mean AUC: 0.8091725588922051\n"
     ]
    }
   ],
   "source": [
    "from sklearn.feature_extraction.text import TfidfVectorizer\n",
    "from sklearn.linear_model import LogisticRegression\n",
    "from sklearn.model_selection import cross_val_score\n",
    "\n",
    "# TF-IDF\n",
    "vectorizer = TfidfVectorizer(max_features=10000, stop_words='english')\n",
    "X = vectorizer.fit_transform(df_train['body'])\n",
    "y = df_train['rule_violation']\n",
    "\n",
    "# Model\n",
    "model = LogisticRegression(max_iter=1000)\n",
    "auc = cross_val_score(model, X, y, cv=5, scoring='roc_auc')\n",
    "print(\"Mean AUC:\", auc.mean())\n"
   ]
  },
  {
   "cell_type": "code",
   "execution_count": 7,
   "id": "ea880c61",
   "metadata": {
    "execution": {
     "iopub.execute_input": "2025-07-29T19:50:13.560631Z",
     "iopub.status.busy": "2025-07-29T19:50:13.559497Z",
     "iopub.status.idle": "2025-07-29T19:50:14.790012Z",
     "shell.execute_reply": "2025-07-29T19:50:14.788887Z"
    },
    "papermill": {
     "duration": 1.239095,
     "end_time": "2025-07-29T19:50:14.792408",
     "exception": false,
     "start_time": "2025-07-29T19:50:13.553313",
     "status": "completed"
    },
    "tags": []
   },
   "outputs": [
    {
     "name": "stderr",
     "output_type": "stream",
     "text": [
      "/usr/local/lib/python3.11/dist-packages/seaborn/_oldcore.py:1119: FutureWarning: use_inf_as_na option is deprecated and will be removed in a future version. Convert inf values to NaN before operating instead.\n",
      "  with pd.option_context('mode.use_inf_as_na', True):\n",
      "/usr/local/lib/python3.11/dist-packages/seaborn/_oldcore.py:1075: FutureWarning: When grouping with a length-1 list-like, you will need to pass a length-1 tuple to get_group in a future version of pandas. Pass `(name,)` instead of `name` to silence this warning.\n",
      "  data_subset = grouped_data.get_group(pd_key)\n",
      "/usr/local/lib/python3.11/dist-packages/seaborn/_oldcore.py:1075: FutureWarning: When grouping with a length-1 list-like, you will need to pass a length-1 tuple to get_group in a future version of pandas. Pass `(name,)` instead of `name` to silence this warning.\n",
      "  data_subset = grouped_data.get_group(pd_key)\n",
      "/usr/local/lib/python3.11/dist-packages/seaborn/_oldcore.py:1075: FutureWarning: When grouping with a length-1 list-like, you will need to pass a length-1 tuple to get_group in a future version of pandas. Pass `(name,)` instead of `name` to silence this warning.\n",
      "  data_subset = grouped_data.get_group(pd_key)\n"
     ]
    },
    {
     "data": {
      "image/png": "[encoded data removed]",
      "text/plain": [
       "<Figure size 640x480 with 1 Axes>"
      ]
     },
     "metadata": {},
     "output_type": "display_data"
    }
   ],
   "source": [
    "import seaborn as sns\n",
    "import matplotlib.pyplot as plt\n",
    "\n",
    "sns.histplot(data=df_train, x='body_length', hue='rule_violation', bins=50, kde=True)\n",
    "plt.title(\"Body Length Distribution by Rule Violation\")\n",
    "plt.show()"
   ]
  },
  {
   "cell_type": "code",
   "execution_count": 8,
   "id": "7bcf01b8",
   "metadata": {
    "execution": {
     "iopub.execute_input": "2025-07-29T19:50:14.802600Z",
     "iopub.status.busy": "2025-07-29T19:50:14.802149Z",
     "iopub.status.idle": "2025-07-29T19:50:15.008557Z",
     "shell.execute_reply": "2025-07-29T19:50:15.005946Z"
    },
    "papermill": {
     "duration": 0.214761,
     "end_time": "2025-07-29T19:50:15.011887",
     "exception": false,
     "start_time": "2025-07-29T19:50:14.797126",
     "status": "completed"
    },
    "tags": []
   },
   "outputs": [
    {
     "name": "stdout",
     "output_type": "stream",
     "text": [
      "✅ submission.csv başarıyla oluşturuldu.\n"
     ]
    }
   ],
   "source": [
    "# Test verisini dönüştür\n",
    "X_test = vectorizer.transform(df_test['body'])\n",
    "\n",
    "# Modeli tüm veride yeniden eğit\n",
    "model.fit(X, y)\n",
    "\n",
    "# Olasılık tahminleri (rule_violation için)\n",
    "y_test_pred = model.predict_proba(X_test)[:, 1]\n",
    "\n",
    "# Submission dosyasını oluştur\n",
    "submission = pd.DataFrame({\n",
    "    'row_id': df_test['row_id'],\n",
    "    'rule_violation': y_test_pred\n",
    "})\n",
    "submission.to_csv('submission.csv', index=False)\n",
    "\n",
    "print(\"✅ submission.csv başarıyla oluşturuldu.\")"
   ]
  }
 ],
 "metadata": {
  "kaggle": {
   "accelerator": "none",
   "dataSources": [
    {
     "databundleVersionId": 13121456,
     "sourceId": 94635,
     "sourceType": "competition"
    }
   ],
   "isGpuEnabled": false,
   "isInternetEnabled": false,
   "language": "python",
   "sourceType": "notebook"
  },
  "kernelspec": {
   "display_name": "Python 3",
   "language": "python",
   "name": "python3"
  },
  "language_info": {
   "codemirror_mode": {
    "name": "ipython",
    "version": 3
   },
   "file_extension": ".py",
   "mimetype": "text/x-python",
   "name": "python",
   "nbconvert_exporter": "python",
   "pygments_lexer": "ipython3",
   "version": "3.11.13"
  },
  "papermill": {
   "default_parameters": {},
   "duration": 15.564322,
   "end_time": "2025-07-29T19:50:17.755929",
   "environment_variables": {},
   "exception": null,
   "input_path": "__notebook__.ipynb",
   "output_path": "__notebook__.ipynb",
   "parameters": {},
   "start_time": "2025-07-29T19:50:02.191607",
   "version": "2.6.0"
  }
 },
 "nbformat": 4,
 "nbformat_minor": 5
}
