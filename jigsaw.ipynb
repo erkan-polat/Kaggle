{
 "cells": [
  {
   "cell_type": "code",
   "execution_count": 1,
   "id": "e31453fa",
   "metadata": {
    "_cell_guid": "b1076dfc-b9ad-4769-8c92-a6c4dae69d19",
    "_uuid": "8f2839f25d086af736a60e9eeb907d3b93b6e0e5",
    "execution": {
     "iopub.execute_input": "2025-07-30T09:26:35.728969Z",
     "iopub.status.busy": "2025-07-30T09:26:35.728309Z",
     "iopub.status.idle": "2025-07-30T09:26:37.401712Z",
     "shell.execute_reply": "2025-07-30T09:26:37.400823Z"
    },
    "papermill": {
     "duration": 1.678238,
     "end_time": "2025-07-30T09:26:37.403056",
     "exception": false,
     "start_time": "2025-07-30T09:26:35.724818",
     "status": "completed"
    },
    "tags": []
   },
   "outputs": [
    {
     "name": "stdout",
     "output_type": "stream",
     "text": [
      "/kaggle/input/jigsaw-agile-community-rules/sample_submission.csv\n",
      "/kaggle/input/jigsaw-agile-community-rules/train.csv\n",
      "/kaggle/input/jigsaw-agile-community-rules/test.csv\n"
     ]
    }
   ],
   "source": [
    "import numpy as np # linear algebra\n",
    "import pandas as pd # data processing, CSV file I/O (e.g. pd.read_csv)\n",
    "\n",
    "import os\n",
    "for dirname, _, filenames in os.walk('/kaggle/input'):\n",
    "    for filename in filenames:\n",
    "        print(os.path.join(dirname, filename))"
   ]
  },
  {
   "cell_type": "code",
   "execution_count": 2,
   "id": "11a8dfff",
   "metadata": {
    "execution": {
     "iopub.execute_input": "2025-07-30T09:26:37.408363Z",
     "iopub.status.busy": "2025-07-30T09:26:37.407997Z",
     "iopub.status.idle": "2025-07-30T09:27:11.993556Z",
     "shell.execute_reply": "2025-07-30T09:27:11.992749Z"
    },
    "papermill": {
     "duration": 34.589528,
     "end_time": "2025-07-30T09:27:11.995079",
     "exception": false,
     "start_time": "2025-07-30T09:26:37.405551",
     "status": "completed"
    },
    "tags": []
   },
   "outputs": [
    {
     "name": "stderr",
     "output_type": "stream",
     "text": [
      "2025-07-30 09:26:56.844730: E external/local_xla/xla/stream_executor/cuda/cuda_fft.cc:477] Unable to register cuFFT factory: Attempting to register factory for plugin cuFFT when one has already been registered\n",
      "WARNING: All log messages before absl::InitializeLog() is called are written to STDERR\n",
      "E0000 00:00:1753867617.064459      13 cuda_dnn.cc:8310] Unable to register cuDNN factory: Attempting to register factory for plugin cuDNN when one has already been registered\n",
      "E0000 00:00:1753867617.132789      13 cuda_blas.cc:1418] Unable to register cuBLAS factory: Attempting to register factory for plugin cuBLAS when one has already been registered\n"
     ]
    }
   ],
   "source": [
    "import pandas as pd\n",
    "import numpy as np\n",
    "import torch\n",
    "from sklearn.model_selection import train_test_split\n",
    "from datasets import Dataset\n",
    "from transformers import (\n",
    "    AutoTokenizer, AutoModelForSequenceClassification,\n",
    "    TrainingArguments, Trainer\n",
    ")"
   ]
  },
  {
   "cell_type": "code",
   "execution_count": 3,
   "id": "a41e1532",
   "metadata": {
    "execution": {
     "iopub.execute_input": "2025-07-30T09:27:12.000352Z",
     "iopub.status.busy": "2025-07-30T09:27:11.999729Z",
     "iopub.status.idle": "2025-07-30T09:27:12.099221Z",
     "shell.execute_reply": "2025-07-30T09:27:12.098509Z"
    },
    "papermill": {
     "duration": 0.103655,
     "end_time": "2025-07-30T09:27:12.100776",
     "exception": false,
     "start_time": "2025-07-30T09:27:11.997121",
     "status": "completed"
    },
    "tags": []
   },
   "outputs": [],
   "source": [
    "df = pd.read_csv('/kaggle/input/jigsaw-agile-community-rules/train.csv')\n",
    "df_test = pd.read_csv('/kaggle/input/jigsaw-agile-community-rules/test.csv')\n",
    "\n",
    "df = df[['body', 'rule_violation']].dropna()\n",
    "df_train, df_val = train_test_split(df, test_size=0.1, stratify=df['rule_violation'], random_state=42)\n"
   ]
  },
  {
   "cell_type": "code",
   "execution_count": 4,
   "id": "87fd3eac",
   "metadata": {
    "execution": {
     "iopub.execute_input": "2025-07-30T09:27:12.105496Z",
     "iopub.status.busy": "2025-07-30T09:27:12.105164Z",
     "iopub.status.idle": "2025-07-30T09:27:25.427594Z",
     "shell.execute_reply": "2025-07-30T09:27:25.426570Z"
    },
    "papermill": {
     "duration": 13.32641,
     "end_time": "2025-07-30T09:27:25.429075",
     "exception": false,
     "start_time": "2025-07-30T09:27:12.102665",
     "status": "completed"
    },
    "tags": []
   },
   "outputs": [
    {
     "name": "stdout",
     "output_type": "stream",
     "text": [
      "[LightGBM] [Info] Number of positive: 928, number of negative: 898\n",
      "[LightGBM] [Info] Auto-choosing col-wise multi-threading, the overhead of testing was 0.053827 seconds.\n",
      "You can set `force_col_wise=true` to remove the overhead.\n",
      "[LightGBM] [Info] Total Bins 70322\n",
      "[LightGBM] [Info] Number of data points in the train set: 1826, number of used features: 3698\n",
      "[LightGBM] [Info] [binary:BoostFromScore]: pavg=0.508215 -> initscore=0.032862\n",
      "[LightGBM] [Info] Start training from score 0.032862\n",
      "✅ submission.csv başarıyla oluşturuldu.\n"
     ]
    }
   ],
   "source": [
    "from sklearn.feature_extraction.text import TfidfVectorizer\n",
    "from lightgbm import LGBMClassifier\n",
    "import pandas as pd\n",
    "\n",
    "vectorizer = TfidfVectorizer(analyzer='char_wb', ngram_range=(4, 6), max_features=50000)\n",
    "X = vectorizer.fit_transform(df_train['body'])\n",
    "X_test = vectorizer.transform(df_test['body'])\n",
    "\n",
    "model = LGBMClassifier(n_estimators=500, random_state=42)\n",
    "model.fit(X, df_train['rule_violation'])\n",
    "\n",
    "y_pred = model.predict_proba(X_test)[:, 1]\n",
    "\n",
    "submission = pd.DataFrame({\n",
    "    'row_id': df_test['row_id'],\n",
    "    'rule_violation': y_pred\n",
    "})\n",
    "submission.to_csv(\"submission.csv\", index=False)\n",
    "print(\"✅ submission.csv başarıyla oluşturuldu.\")\n"
   ]
  }
 ],
 "metadata": {
  "kaggle": {
   "accelerator": "none",
   "dataSources": [
    {
     "databundleVersionId": 13121456,
     "sourceId": 94635,
     "sourceType": "competition"
    }
   ],
   "dockerImageVersionId": 31089,
   "isGpuEnabled": false,
   "isInternetEnabled": true,
   "language": "python",
   "sourceType": "notebook"
  },
  "kernelspec": {
   "display_name": "Python 3",
   "language": "python",
   "name": "python3"
  },
  "language_info": {
   "codemirror_mode": {
    "name": "ipython",
    "version": 3
   },
   "file_extension": ".py",
   "mimetype": "text/x-python",
   "name": "python",
   "nbconvert_exporter": "python",
   "pygments_lexer": "ipython3",
   "version": "3.11.13"
  },
  "papermill": {
   "default_parameters": {},
   "duration": 57.064039,
   "end_time": "2025-07-30T09:27:28.381392",
   "environment_variables": {},
   "exception": null,
   "input_path": "__notebook__.ipynb",
   "output_path": "__notebook__.ipynb",
   "parameters": {},
   "start_time": "2025-07-30T09:26:31.317353",
   "version": "2.6.0"
  }
 },
 "nbformat": 4,
 "nbformat_minor": 5
}
