{
 "cells": [
  {
   "cell_type": "code",
   "execution_count": 1,
   "id": "be7f2886",
   "metadata": {
    "_cell_guid": "b1076dfc-b9ad-4769-8c92-a6c4dae69d19",
    "_uuid": "8f2839f25d086af736a60e9eeb907d3b93b6e0e5",
    "execution": {
     "iopub.execute_input": "2025-07-30T10:15:59.938532Z",
     "iopub.status.busy": "2025-07-30T10:15:59.938121Z",
     "iopub.status.idle": "2025-07-30T10:16:01.791807Z",
     "shell.execute_reply": "2025-07-30T10:16:01.790830Z"
    },
    "papermill": {
     "duration": 1.859209,
     "end_time": "2025-07-30T10:16:01.793316",
     "exception": false,
     "start_time": "2025-07-30T10:15:59.934107",
     "status": "completed"
    },
    "tags": []
   },
   "outputs": [
    {
     "name": "stdout",
     "output_type": "stream",
     "text": [
      "/kaggle/input/jigsaw-agile-community-rules/sample_submission.csv\n",
      "/kaggle/input/jigsaw-agile-community-rules/train.csv\n",
      "/kaggle/input/jigsaw-agile-community-rules/test.csv\n"
     ]
    }
   ],
   "source": [
    "import numpy as np # linear algebra\n",
    "import pandas as pd # data processing, CSV file I/O (e.g. pd.read_csv)\n",
    "\n",
    "import os\n",
    "for dirname, _, filenames in os.walk('/kaggle/input'):\n",
    "    for filename in filenames:\n",
    "        print(os.path.join(dirname, filename))"
   ]
  },
  {
   "cell_type": "code",
   "execution_count": 2,
   "id": "87bb2c1c",
   "metadata": {
    "execution": {
     "iopub.execute_input": "2025-07-30T10:16:01.799512Z",
     "iopub.status.busy": "2025-07-30T10:16:01.799098Z",
     "iopub.status.idle": "2025-07-30T10:16:35.990273Z",
     "shell.execute_reply": "2025-07-30T10:16:35.989537Z"
    },
    "papermill": {
     "duration": 34.195748,
     "end_time": "2025-07-30T10:16:35.991810",
     "exception": false,
     "start_time": "2025-07-30T10:16:01.796062",
     "status": "completed"
    },
    "tags": []
   },
   "outputs": [
    {
     "name": "stderr",
     "output_type": "stream",
     "text": [
      "2025-07-30 10:16:20.823573: E external/local_xla/xla/stream_executor/cuda/cuda_fft.cc:477] Unable to register cuFFT factory: Attempting to register factory for plugin cuFFT when one has already been registered\n",
      "WARNING: All log messages before absl::InitializeLog() is called are written to STDERR\n",
      "E0000 00:00:1753870580.988819      13 cuda_dnn.cc:8310] Unable to register cuDNN factory: Attempting to register factory for plugin cuDNN when one has already been registered\n",
      "E0000 00:00:1753870581.039715      13 cuda_blas.cc:1418] Unable to register cuBLAS factory: Attempting to register factory for plugin cuBLAS when one has already been registered\n"
     ]
    }
   ],
   "source": [
    "import pandas as pd\n",
    "import numpy as np\n",
    "import torch\n",
    "from sklearn.model_selection import train_test_split\n",
    "from datasets import Dataset\n",
    "from transformers import (\n",
    "    AutoTokenizer, AutoModelForSequenceClassification,\n",
    "    TrainingArguments, Trainer\n",
    ")"
   ]
  },
  {
   "cell_type": "code",
   "execution_count": 3,
   "id": "736eb938",
   "metadata": {
    "execution": {
     "iopub.execute_input": "2025-07-30T10:16:35.997662Z",
     "iopub.status.busy": "2025-07-30T10:16:35.997023Z",
     "iopub.status.idle": "2025-07-30T10:16:36.089671Z",
     "shell.execute_reply": "2025-07-30T10:16:36.088844Z"
    },
    "papermill": {
     "duration": 0.097113,
     "end_time": "2025-07-30T10:16:36.091333",
     "exception": false,
     "start_time": "2025-07-30T10:16:35.994220",
     "status": "completed"
    },
    "tags": []
   },
   "outputs": [],
   "source": [
    "df = pd.read_csv('/kaggle/input/jigsaw-agile-community-rules/train.csv')\n",
    "df_test = pd.read_csv('/kaggle/input/jigsaw-agile-community-rules/test.csv')\n",
    "\n",
    "df = df[['body', 'rule_violation']].dropna()\n",
    "df_train, df_val = train_test_split(df, test_size=0.1, stratify=df['rule_violation'], random_state=42)\n"
   ]
  },
  {
   "cell_type": "code",
   "execution_count": 4,
   "id": "f56b42cb",
   "metadata": {
    "execution": {
     "iopub.execute_input": "2025-07-30T10:16:36.098234Z",
     "iopub.status.busy": "2025-07-30T10:16:36.097056Z",
     "iopub.status.idle": "2025-07-30T10:16:37.092129Z",
     "shell.execute_reply": "2025-07-30T10:16:37.091104Z"
    },
    "papermill": {
     "duration": 1.00033,
     "end_time": "2025-07-30T10:16:37.094063",
     "exception": false,
     "start_time": "2025-07-30T10:16:36.093733",
     "status": "completed"
    },
    "tags": []
   },
   "outputs": [],
   "source": [
    "from sklearn.feature_extraction.text import TfidfVectorizer\n",
    "\n",
    "for df in [df_train, df_test]:\n",
    "    df['body_len'] = df['body'].apply(len)\n",
    "    df['num_links'] = df['body'].str.count(r\"http\\S+\")\n",
    "    df['num_exclaims'] = df['body'].str.count('!')\n",
    "    df['num_upper'] = df['body'].str.count(r'[A-Z]{2,}')\n",
    "\n",
    "meta_features = ['body_len', 'num_links', 'num_exclaims', 'num_upper']\n",
    "\n",
    "# Word-level TF-IDF\n",
    "word_vectorizer = TfidfVectorizer(analyzer='word', ngram_range=(1, 2), max_features=20000, stop_words='english')\n",
    "X_word = word_vectorizer.fit_transform(df_train['body'])\n",
    "X_test_word = word_vectorizer.transform(df_test['body'])\n",
    "\n",
    "# Char-level TF-IDF\n",
    "char_vectorizer = TfidfVectorizer(analyzer='char_wb', ngram_range=(4, 6), max_features=30000)\n",
    "X_char = char_vectorizer.fit_transform(df_train['body'])\n",
    "X_test_char = char_vectorizer.transform(df_test['body'])\n",
    "\n",
    "# Meta matrisi\n",
    "X_meta = df_train[meta_features].values\n",
    "X_test_meta = df_test[meta_features].values\n"
   ]
  },
  {
   "cell_type": "code",
   "execution_count": 5,
   "id": "fd44f70b",
   "metadata": {
    "execution": {
     "iopub.execute_input": "2025-07-30T10:16:37.099911Z",
     "iopub.status.busy": "2025-07-30T10:16:37.099561Z",
     "iopub.status.idle": "2025-07-30T10:16:37.138879Z",
     "shell.execute_reply": "2025-07-30T10:16:37.138105Z"
    },
    "papermill": {
     "duration": 0.043985,
     "end_time": "2025-07-30T10:16:37.140402",
     "exception": false,
     "start_time": "2025-07-30T10:16:37.096417",
     "status": "completed"
    },
    "tags": []
   },
   "outputs": [],
   "source": [
    "from scipy.sparse import hstack, csr_matrix\n",
    "\n",
    "X = hstack([X_word, X_char, X_meta])\n",
    "X_test = hstack([X_test_word, X_test_char, X_test_meta])\n",
    "\n",
    "X = csr_matrix(X)\n",
    "X_test = csr_matrix(X_test)\n",
    "y = df_train['rule_violation'].values\n"
   ]
  },
  {
   "cell_type": "code",
   "execution_count": 6,
   "id": "2fe3b183",
   "metadata": {
    "execution": {
     "iopub.execute_input": "2025-07-30T10:16:37.146602Z",
     "iopub.status.busy": "2025-07-30T10:16:37.145862Z",
     "iopub.status.idle": "2025-07-30T10:17:18.645902Z",
     "shell.execute_reply": "2025-07-30T10:17:18.644856Z"
    },
    "papermill": {
     "duration": 41.504536,
     "end_time": "2025-07-30T10:17:18.647338",
     "exception": false,
     "start_time": "2025-07-30T10:16:37.142802",
     "status": "completed"
    },
    "tags": []
   },
   "outputs": [
    {
     "name": "stdout",
     "output_type": "stream",
     "text": [
      "[LightGBM] [Info] Number of positive: 742, number of negative: 718\n",
      "[LightGBM] [Info] Auto-choosing row-wise multi-threading, the overhead of testing was 0.037361 seconds.\n",
      "You can set `force_row_wise=true` to remove the overhead.\n",
      "And if memory is not enough, you can set `force_col_wise=true`.\n",
      "[LightGBM] [Info] Total Bins 53912\n",
      "[LightGBM] [Info] Number of data points in the train set: 1460, number of used features: 2950\n",
      "[LightGBM] [Info] [binary:BoostFromScore]: pavg=0.508219 -> initscore=0.032880\n",
      "[LightGBM] [Info] Start training from score 0.032880\n",
      "Fold 1 AUC: 0.8229\n",
      "[LightGBM] [Info] Number of positive: 742, number of negative: 719\n",
      "[LightGBM] [Info] Auto-choosing row-wise multi-threading, the overhead of testing was 0.036407 seconds.\n",
      "You can set `force_row_wise=true` to remove the overhead.\n",
      "And if memory is not enough, you can set `force_col_wise=true`.\n",
      "[LightGBM] [Info] Total Bins 54766\n",
      "[LightGBM] [Info] Number of data points in the train set: 1461, number of used features: 2987\n",
      "[LightGBM] [Info] [binary:BoostFromScore]: pavg=0.507871 -> initscore=0.031488\n",
      "[LightGBM] [Info] Start training from score 0.031488\n",
      "Fold 2 AUC: 0.8522\n",
      "[LightGBM] [Info] Number of positive: 742, number of negative: 719\n",
      "[LightGBM] [Info] Auto-choosing col-wise multi-threading, the overhead of testing was 0.047327 seconds.\n",
      "You can set `force_col_wise=true` to remove the overhead.\n",
      "[LightGBM] [Info] Total Bins 52593\n",
      "[LightGBM] [Info] Number of data points in the train set: 1461, number of used features: 2934\n",
      "[LightGBM] [Info] [binary:BoostFromScore]: pavg=0.507871 -> initscore=0.031488\n",
      "[LightGBM] [Info] Start training from score 0.031488\n",
      "Fold 3 AUC: 0.8189\n",
      "[LightGBM] [Info] Number of positive: 743, number of negative: 718\n",
      "[LightGBM] [Info] Auto-choosing row-wise multi-threading, the overhead of testing was 0.038269 seconds.\n",
      "You can set `force_row_wise=true` to remove the overhead.\n",
      "And if memory is not enough, you can set `force_col_wise=true`.\n",
      "[LightGBM] [Info] Total Bins 55618\n",
      "[LightGBM] [Info] Number of data points in the train set: 1461, number of used features: 3066\n",
      "[LightGBM] [Info] [binary:BoostFromScore]: pavg=0.508556 -> initscore=0.034226\n",
      "[LightGBM] [Info] Start training from score 0.034226\n",
      "Fold 4 AUC: 0.8527\n",
      "[LightGBM] [Info] Number of positive: 743, number of negative: 718\n",
      "[LightGBM] [Info] Auto-choosing col-wise multi-threading, the overhead of testing was 0.036534 seconds.\n",
      "You can set `force_col_wise=true` to remove the overhead.\n",
      "[LightGBM] [Info] Total Bins 54611\n",
      "[LightGBM] [Info] Number of data points in the train set: 1461, number of used features: 2985\n",
      "[LightGBM] [Info] [binary:BoostFromScore]: pavg=0.508556 -> initscore=0.034226\n",
      "[LightGBM] [Info] Start training from score 0.034226\n",
      "Fold 5 AUC: 0.8053\n",
      "\n",
      "✅ Mean OOF AUC: 0.8293273846094769\n"
     ]
    }
   ],
   "source": [
    "from sklearn.model_selection import StratifiedKFold\n",
    "from sklearn.metrics import roc_auc_score\n",
    "from lightgbm import LGBMClassifier\n",
    "import numpy as np\n",
    "\n",
    "skf = StratifiedKFold(n_splits=5, shuffle=True, random_state=42)\n",
    "oof_preds = np.zeros(len(df_train))\n",
    "test_preds = np.zeros(len(df_test))\n",
    "\n",
    "for fold, (train_idx, val_idx) in enumerate(skf.split(X, y)):\n",
    "    X_tr, X_val = X[train_idx], X[val_idx]\n",
    "    y_tr, y_val = y[train_idx], y[val_idx]\n",
    "\n",
    "    model = LGBMClassifier(n_estimators=500, learning_rate=0.05, random_state=fold)\n",
    "    model.fit(X_tr, y_tr)\n",
    "\n",
    "    oof_preds[val_idx] = model.predict_proba(X_val)[:, 1]\n",
    "    test_preds += model.predict_proba(X_test)[:, 1] / skf.n_splits\n",
    "\n",
    "    score = roc_auc_score(y_val, oof_preds[val_idx])\n",
    "    print(f\"Fold {fold+1} AUC: {score:.4f}\")\n",
    "\n",
    "print(\"\\n✅ Mean OOF AUC:\", roc_auc_score(y, oof_preds))\n"
   ]
  },
  {
   "cell_type": "code",
   "execution_count": 7,
   "id": "a8e79963",
   "metadata": {
    "execution": {
     "iopub.execute_input": "2025-07-30T10:17:18.654456Z",
     "iopub.status.busy": "2025-07-30T10:17:18.653521Z",
     "iopub.status.idle": "2025-07-30T10:17:18.665700Z",
     "shell.execute_reply": "2025-07-30T10:17:18.664739Z"
    },
    "papermill": {
     "duration": 0.017347,
     "end_time": "2025-07-30T10:17:18.667471",
     "exception": false,
     "start_time": "2025-07-30T10:17:18.650124",
     "status": "completed"
    },
    "tags": []
   },
   "outputs": [
    {
     "name": "stdout",
     "output_type": "stream",
     "text": [
      "✅ submission.csv başarıyla oluşturuldu.\n"
     ]
    }
   ],
   "source": [
    "submission = pd.DataFrame({\n",
    "    'row_id': df_test['row_id'],\n",
    "    'rule_violation': test_preds\n",
    "})\n",
    "submission.to_csv(\"submission.csv\", index=False)\n",
    "print(\"✅ submission.csv başarıyla oluşturuldu.\")\n"
   ]
  }
 ],
 "metadata": {
  "kaggle": {
   "accelerator": "none",
   "dataSources": [
    {
     "databundleVersionId": 13121456,
     "sourceId": 94635,
     "sourceType": "competition"
    }
   ],
   "dockerImageVersionId": 31089,
   "isGpuEnabled": false,
   "isInternetEnabled": false,
   "language": "python",
   "sourceType": "notebook"
  },
  "kernelspec": {
   "display_name": "Python 3",
   "language": "python",
   "name": "python3"
  },
  "language_info": {
   "codemirror_mode": {
    "name": "ipython",
    "version": 3
   },
   "file_extension": ".py",
   "mimetype": "text/x-python",
   "name": "python",
   "nbconvert_exporter": "python",
   "pygments_lexer": "ipython3",
   "version": "3.11.13"
  },
  "papermill": {
   "default_parameters": {},
   "duration": 86.128352,
   "end_time": "2025-07-30T10:17:21.491817",
   "environment_variables": {},
   "exception": null,
   "input_path": "__notebook__.ipynb",
   "output_path": "__notebook__.ipynb",
   "parameters": {},
   "start_time": "2025-07-30T10:15:55.363465",
   "version": "2.6.0"
  }
 },
 "nbformat": 4,
 "nbformat_minor": 5
}
