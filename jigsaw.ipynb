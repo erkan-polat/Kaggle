{
 "cells": [
  {
   "cell_type": "code",
   "execution_count": 1,
   "id": "b2c53b1c",
   "metadata": {
    "_cell_guid": "b1076dfc-b9ad-4769-8c92-a6c4dae69d19",
    "_uuid": "8f2839f25d086af736a60e9eeb907d3b93b6e0e5",
    "execution": {
     "iopub.execute_input": "2025-07-30T10:01:11.734391Z",
     "iopub.status.busy": "2025-07-30T10:01:11.734040Z",
     "iopub.status.idle": "2025-07-30T10:01:13.345539Z",
     "shell.execute_reply": "2025-07-30T10:01:13.344334Z"
    },
    "papermill": {
     "duration": 1.617168,
     "end_time": "2025-07-30T10:01:13.347350",
     "exception": false,
     "start_time": "2025-07-30T10:01:11.730182",
     "status": "completed"
    },
    "tags": []
   },
   "outputs": [
    {
     "name": "stdout",
     "output_type": "stream",
     "text": [
      "/kaggle/input/jigsaw-agile-community-rules/sample_submission.csv\n",
      "/kaggle/input/jigsaw-agile-community-rules/train.csv\n",
      "/kaggle/input/jigsaw-agile-community-rules/test.csv\n"
     ]
    }
   ],
   "source": [
    "import numpy as np # linear algebra\n",
    "import pandas as pd # data processing, CSV file I/O (e.g. pd.read_csv)\n",
    "\n",
    "import os\n",
    "for dirname, _, filenames in os.walk('/kaggle/input'):\n",
    "    for filename in filenames:\n",
    "        print(os.path.join(dirname, filename))"
   ]
  },
  {
   "cell_type": "code",
   "execution_count": 2,
   "id": "412e936d",
   "metadata": {
    "execution": {
     "iopub.execute_input": "2025-07-30T10:01:13.352829Z",
     "iopub.status.busy": "2025-07-30T10:01:13.352447Z",
     "iopub.status.idle": "2025-07-30T10:01:48.378363Z",
     "shell.execute_reply": "2025-07-30T10:01:48.377452Z"
    },
    "papermill": {
     "duration": 35.03064,
     "end_time": "2025-07-30T10:01:48.380293",
     "exception": false,
     "start_time": "2025-07-30T10:01:13.349653",
     "status": "completed"
    },
    "tags": []
   },
   "outputs": [
    {
     "name": "stderr",
     "output_type": "stream",
     "text": [
      "2025-07-30 10:01:32.493925: E external/local_xla/xla/stream_executor/cuda/cuda_fft.cc:477] Unable to register cuFFT factory: Attempting to register factory for plugin cuFFT when one has already been registered\n",
      "WARNING: All log messages before absl::InitializeLog() is called are written to STDERR\n",
      "E0000 00:00:1753869692.700094      13 cuda_dnn.cc:8310] Unable to register cuDNN factory: Attempting to register factory for plugin cuDNN when one has already been registered\n",
      "E0000 00:00:1753869692.755157      13 cuda_blas.cc:1418] Unable to register cuBLAS factory: Attempting to register factory for plugin cuBLAS when one has already been registered\n"
     ]
    }
   ],
   "source": [
    "import pandas as pd\n",
    "import numpy as np\n",
    "import torch\n",
    "from sklearn.model_selection import train_test_split\n",
    "from datasets import Dataset\n",
    "from transformers import (\n",
    "    AutoTokenizer, AutoModelForSequenceClassification,\n",
    "    TrainingArguments, Trainer\n",
    ")"
   ]
  },
  {
   "cell_type": "code",
   "execution_count": 3,
   "id": "ae44dd0d",
   "metadata": {
    "execution": {
     "iopub.execute_input": "2025-07-30T10:01:48.386601Z",
     "iopub.status.busy": "2025-07-30T10:01:48.385192Z",
     "iopub.status.idle": "2025-07-30T10:01:48.495615Z",
     "shell.execute_reply": "2025-07-30T10:01:48.494606Z"
    },
    "papermill": {
     "duration": 0.114877,
     "end_time": "2025-07-30T10:01:48.497367",
     "exception": false,
     "start_time": "2025-07-30T10:01:48.382490",
     "status": "completed"
    },
    "tags": []
   },
   "outputs": [],
   "source": [
    "df = pd.read_csv('/kaggle/input/jigsaw-agile-community-rules/train.csv')\n",
    "df_test = pd.read_csv('/kaggle/input/jigsaw-agile-community-rules/test.csv')\n",
    "\n",
    "df = df[['body', 'rule_violation']].dropna()\n",
    "df_train, df_val = train_test_split(df, test_size=0.1, stratify=df['rule_violation'], random_state=42)\n"
   ]
  },
  {
   "cell_type": "code",
   "execution_count": 4,
   "id": "3b732c3a",
   "metadata": {
    "execution": {
     "iopub.execute_input": "2025-07-30T10:01:48.502768Z",
     "iopub.status.busy": "2025-07-30T10:01:48.502409Z",
     "iopub.status.idle": "2025-07-30T10:02:05.199742Z",
     "shell.execute_reply": "2025-07-30T10:02:05.198357Z"
    },
    "papermill": {
     "duration": 16.702049,
     "end_time": "2025-07-30T10:02:05.201445",
     "exception": false,
     "start_time": "2025-07-30T10:01:48.499396",
     "status": "completed"
    },
    "tags": []
   },
   "outputs": [
    {
     "name": "stdout",
     "output_type": "stream",
     "text": [
      "[LightGBM] [Info] Number of positive: 928, number of negative: 898\n",
      "[LightGBM] [Info] Auto-choosing col-wise multi-threading, the overhead of testing was 0.060279 seconds.\n",
      "You can set `force_col_wise=true` to remove the overhead.\n",
      "[LightGBM] [Info] Total Bins 70609\n",
      "[LightGBM] [Info] Number of data points in the train set: 1826, number of used features: 3702\n",
      "[LightGBM] [Info] [binary:BoostFromScore]: pavg=0.508215 -> initscore=0.032862\n",
      "[LightGBM] [Info] Start training from score 0.032862\n",
      "✅ submission.csv oluşturuldu.\n"
     ]
    },
    {
     "name": "stderr",
     "output_type": "stream",
     "text": [
      "/usr/local/lib/python3.11/dist-packages/lightgbm/basic.py:1218: UserWarning: Converting data to scipy sparse matrix.\n",
      "  _log_warning(\"Converting data to scipy sparse matrix.\")\n"
     ]
    }
   ],
   "source": [
    "from sklearn.feature_extraction.text import TfidfVectorizer\n",
    "from lightgbm import LGBMClassifier\n",
    "import pandas as pd\n",
    "from scipy.sparse import hstack\n",
    "\n",
    "for df in [df_train, df_test]:\n",
    "    df['body_len'] = df['body'].apply(len)\n",
    "    df['num_links'] = df['body'].str.count(r\"http\\S+\")\n",
    "    df['num_exclaims'] = df['body'].str.count('!')\n",
    "    df['num_upper'] = df['body'].str.count(r'[A-Z]{2,}')\n",
    "\n",
    "meta_features = ['body_len', 'num_links', 'num_exclaims', 'num_upper']\n",
    "\n",
    "vectorizer = TfidfVectorizer(analyzer='char_wb', ngram_range=(4, 6), max_features=50000)\n",
    "X_tfidf = vectorizer.fit_transform(df_train['body'])\n",
    "X_test_tfidf = vectorizer.transform(df_test['body'])\n",
    "\n",
    "X = hstack([X_tfidf, df_train[meta_features].values])\n",
    "X_test = hstack([X_test_tfidf, df_test[meta_features].values])\n",
    "\n",
    "model = LGBMClassifier(n_estimators=500, random_state=42)\n",
    "model.fit(X, df_train['rule_violation'])\n",
    "\n",
    "y_pred = model.predict_proba(X_test)[:, 1]\n",
    "\n",
    "submission = pd.DataFrame({\n",
    "    'row_id': df_test['row_id'],\n",
    "    'rule_violation': y_pred\n",
    "})\n",
    "submission.to_csv(\"submission.csv\", index=False)\n",
    "print(\"✅ submission.csv oluşturuldu.\")\n"
   ]
  }
 ],
 "metadata": {
  "kaggle": {
   "accelerator": "none",
   "dataSources": [
    {
     "databundleVersionId": 13121456,
     "sourceId": 94635,
     "sourceType": "competition"
    }
   ],
   "dockerImageVersionId": 31089,
   "isGpuEnabled": false,
   "isInternetEnabled": false,
   "language": "python",
   "sourceType": "notebook"
  },
  "kernelspec": {
   "display_name": "Python 3",
   "language": "python",
   "name": "python3"
  },
  "language_info": {
   "codemirror_mode": {
    "name": "ipython",
    "version": 3
   },
   "file_extension": ".py",
   "mimetype": "text/x-python",
   "name": "python",
   "nbconvert_exporter": "python",
   "pygments_lexer": "ipython3",
   "version": "3.11.13"
  },
  "papermill": {
   "default_parameters": {},
   "duration": 61.083385,
   "end_time": "2025-07-30T10:02:08.259794",
   "environment_variables": {},
   "exception": null,
   "input_path": "__notebook__.ipynb",
   "output_path": "__notebook__.ipynb",
   "parameters": {},
   "start_time": "2025-07-30T10:01:07.176409",
   "version": "2.6.0"
  }
 },
 "nbformat": 4,
 "nbformat_minor": 5
}
