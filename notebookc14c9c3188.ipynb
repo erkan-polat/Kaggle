{
 "cells": [
  {
   "cell_type": "code",
   "execution_count": 1,
   "id": "6bc5bbb4",
   "metadata": {
    "_cell_guid": "b1076dfc-b9ad-4769-8c92-a6c4dae69d19",
    "_uuid": "8f2839f25d086af736a60e9eeb907d3b93b6e0e5",
    "execution": {
     "iopub.execute_input": "2025-07-30T11:33:15.938735Z",
     "iopub.status.busy": "2025-07-30T11:33:15.938281Z",
     "iopub.status.idle": "2025-07-30T11:33:18.172351Z",
     "shell.execute_reply": "2025-07-30T11:33:18.171377Z"
    },
    "papermill": {
     "duration": 2.240915,
     "end_time": "2025-07-30T11:33:18.174039",
     "exception": false,
     "start_time": "2025-07-30T11:33:15.933124",
     "status": "completed"
    },
    "tags": []
   },
   "outputs": [
    {
     "name": "stdout",
     "output_type": "stream",
     "text": [
      "/kaggle/input/playground-series-s5e7/sample_submission.csv\n",
      "/kaggle/input/playground-series-s5e7/train.csv\n",
      "/kaggle/input/playground-series-s5e7/test.csv\n"
     ]
    }
   ],
   "source": [
    "import numpy as np # linear algebra\n",
    "import pandas as pd # data processing, CSV file I/O (e.g. pd.read_csv)\n",
    "\n",
    "\n",
    "import os\n",
    "for dirname, _, filenames in os.walk('/kaggle/input'):\n",
    "    for filename in filenames:\n",
    "        print(os.path.join(dirname, filename))"
   ]
  },
  {
   "cell_type": "code",
   "execution_count": 2,
   "id": "528c07d1",
   "metadata": {
    "execution": {
     "iopub.execute_input": "2025-07-30T11:33:18.182134Z",
     "iopub.status.busy": "2025-07-30T11:33:18.181707Z",
     "iopub.status.idle": "2025-07-30T11:33:18.258206Z",
     "shell.execute_reply": "2025-07-30T11:33:18.256991Z"
    },
    "papermill": {
     "duration": 0.082701,
     "end_time": "2025-07-30T11:33:18.260280",
     "exception": false,
     "start_time": "2025-07-30T11:33:18.177579",
     "status": "completed"
    },
    "tags": []
   },
   "outputs": [],
   "source": [
    "train = pd.read_csv('/kaggle/input/playground-series-s5e7/train.csv')\n",
    "test = pd.read_csv('/kaggle/input/playground-series-s5e7/test.csv')\n",
    "sample_submission = pd.read_csv('/kaggle/input/playground-series-s5e7/sample_submission.csv')\n"
   ]
  },
  {
   "cell_type": "code",
   "execution_count": 3,
   "id": "67088c7c",
   "metadata": {
    "execution": {
     "iopub.execute_input": "2025-07-30T11:33:18.268545Z",
     "iopub.status.busy": "2025-07-30T11:33:18.268211Z",
     "iopub.status.idle": "2025-07-30T11:33:27.014100Z",
     "shell.execute_reply": "2025-07-30T11:33:27.012977Z"
    },
    "papermill": {
     "duration": 8.752304,
     "end_time": "2025-07-30T11:33:27.016232",
     "exception": false,
     "start_time": "2025-07-30T11:33:18.263928",
     "status": "completed"
    },
    "tags": []
   },
   "outputs": [],
   "source": [
    "from lightgbm import LGBMClassifier\n",
    "from sklearn.ensemble import RandomForestClassifier, VotingClassifier\n",
    "from sklearn.pipeline import Pipeline\n"
   ]
  },
  {
   "cell_type": "code",
   "execution_count": 4,
   "id": "cc3b877a",
   "metadata": {
    "execution": {
     "iopub.execute_input": "2025-07-30T11:33:27.025273Z",
     "iopub.status.busy": "2025-07-30T11:33:27.024615Z",
     "iopub.status.idle": "2025-07-30T11:33:27.031243Z",
     "shell.execute_reply": "2025-07-30T11:33:27.030126Z"
    },
    "papermill": {
     "duration": 0.013024,
     "end_time": "2025-07-30T11:33:27.033109",
     "exception": false,
     "start_time": "2025-07-30T11:33:27.020085",
     "status": "completed"
    },
    "tags": []
   },
   "outputs": [],
   "source": [
    "# RandomForest\n",
    "rf = RandomForestClassifier(\n",
    "    n_estimators=200,\n",
    "    max_depth=10,\n",
    "    random_state=42\n",
    ")\n",
    "\n",
    "# LightGBM\n",
    "lgbm = LGBMClassifier(\n",
    "    n_estimators=300,\n",
    "    learning_rate=0.03,\n",
    "    max_depth=8,\n",
    "    random_state=42\n",
    ")\n",
    "\n",
    "# Ensemble (soft voting: probability average)\n",
    "ensemble = VotingClassifier(\n",
    "    estimators=[('rf', rf), ('lgbm', lgbm)],\n",
    "    voting='soft' \n",
    ")\n"
   ]
  },
  {
   "cell_type": "code",
   "execution_count": 5,
   "id": "070b4c7b",
   "metadata": {
    "execution": {
     "iopub.execute_input": "2025-07-30T11:33:27.041084Z",
     "iopub.status.busy": "2025-07-30T11:33:27.040785Z",
     "iopub.status.idle": "2025-07-30T11:33:27.058754Z",
     "shell.execute_reply": "2025-07-30T11:33:27.057318Z"
    },
    "papermill": {
     "duration": 0.024807,
     "end_time": "2025-07-30T11:33:27.061318",
     "exception": false,
     "start_time": "2025-07-30T11:33:27.036511",
     "status": "completed"
    },
    "tags": []
   },
   "outputs": [],
   "source": [
    "from sklearn.preprocessing import LabelEncoder, StandardScaler\n",
    "le = LabelEncoder()\n",
    "train['Personality'] = le.fit_transform(train['Personality'])  # Extrovert = 0, Introvert = 1"
   ]
  },
  {
   "cell_type": "code",
   "execution_count": 6,
   "id": "1095e1d9",
   "metadata": {
    "execution": {
     "iopub.execute_input": "2025-07-30T11:33:27.071225Z",
     "iopub.status.busy": "2025-07-30T11:33:27.070866Z",
     "iopub.status.idle": "2025-07-30T11:33:27.079102Z",
     "shell.execute_reply": "2025-07-30T11:33:27.077522Z"
    },
    "papermill": {
     "duration": 0.015643,
     "end_time": "2025-07-30T11:33:27.081392",
     "exception": false,
     "start_time": "2025-07-30T11:33:27.065749",
     "status": "completed"
    },
    "tags": []
   },
   "outputs": [
    {
     "name": "stdout",
     "output_type": "stream",
     "text": [
      "Kategorik sütunlar: ['Stage_fear', 'Drained_after_socializing']\n"
     ]
    }
   ],
   "source": [
    "non_numeric_cols = train.select_dtypes(include='object').columns\n",
    "print(\"Kategorik sütunlar:\", non_numeric_cols.tolist())"
   ]
  },
  {
   "cell_type": "code",
   "execution_count": 7,
   "id": "a4d34be6",
   "metadata": {
    "execution": {
     "iopub.execute_input": "2025-07-30T11:33:27.089902Z",
     "iopub.status.busy": "2025-07-30T11:33:27.089544Z",
     "iopub.status.idle": "2025-07-30T11:33:27.111282Z",
     "shell.execute_reply": "2025-07-30T11:33:27.110053Z"
    },
    "papermill": {
     "duration": 0.028183,
     "end_time": "2025-07-30T11:33:27.113160",
     "exception": false,
     "start_time": "2025-07-30T11:33:27.084977",
     "status": "completed"
    },
    "tags": []
   },
   "outputs": [],
   "source": [
    "from sklearn.preprocessing import LabelEncoder\n",
    "\n",
    "for col in ['Stage_fear', 'Drained_after_socializing']:\n",
    "    le = LabelEncoder()\n",
    "    train[col] = le.fit_transform(train[col].astype(str))\n",
    "    test[col] = le.transform(test[col].astype(str))"
   ]
  },
  {
   "cell_type": "code",
   "execution_count": 8,
   "id": "c7d1824d",
   "metadata": {
    "execution": {
     "iopub.execute_input": "2025-07-30T11:33:27.125378Z",
     "iopub.status.busy": "2025-07-30T11:33:27.125037Z",
     "iopub.status.idle": "2025-07-30T11:33:27.167873Z",
     "shell.execute_reply": "2025-07-30T11:33:27.166261Z"
    },
    "papermill": {
     "duration": 0.049621,
     "end_time": "2025-07-30T11:33:27.170010",
     "exception": false,
     "start_time": "2025-07-30T11:33:27.120389",
     "status": "completed"
    },
    "tags": []
   },
   "outputs": [],
   "source": [
    "from sklearn.impute import SimpleImputer\n",
    "\n",
    "imputer = SimpleImputer(strategy='mean')  \n",
    "X = train.drop(columns=['id', 'Personality'])\n",
    "X = pd.DataFrame(imputer.fit_transform(X), columns=X.columns)\n",
    "\n",
    "X_test = test.drop(columns=['id'])\n",
    "X_test = pd.DataFrame(imputer.transform(X_test), columns=X_test.columns)\n",
    "\n",
    "y = train['Personality']"
   ]
  },
  {
   "cell_type": "code",
   "execution_count": 9,
   "id": "0c589884",
   "metadata": {
    "execution": {
     "iopub.execute_input": "2025-07-30T11:33:27.178625Z",
     "iopub.status.busy": "2025-07-30T11:33:27.178271Z",
     "iopub.status.idle": "2025-07-30T11:33:27.190287Z",
     "shell.execute_reply": "2025-07-30T11:33:27.189231Z"
    },
    "papermill": {
     "duration": 0.018261,
     "end_time": "2025-07-30T11:33:27.192174",
     "exception": false,
     "start_time": "2025-07-30T11:33:27.173913",
     "status": "completed"
    },
    "tags": []
   },
   "outputs": [],
   "source": [
    "X = train.drop(columns=['id', 'Personality'])\n",
    "X_test = test.drop(columns=['id'])\n",
    "y = train['Personality']\n",
    "\n",
    "X = X.dropna()\n",
    "y = y[X.index]  "
   ]
  },
  {
   "cell_type": "code",
   "execution_count": 10,
   "id": "f98b7f33",
   "metadata": {
    "execution": {
     "iopub.execute_input": "2025-07-30T11:33:27.200036Z",
     "iopub.status.busy": "2025-07-30T11:33:27.199719Z",
     "iopub.status.idle": "2025-07-30T11:33:27.241294Z",
     "shell.execute_reply": "2025-07-30T11:33:27.240180Z"
    },
    "papermill": {
     "duration": 0.04764,
     "end_time": "2025-07-30T11:33:27.243139",
     "exception": false,
     "start_time": "2025-07-30T11:33:27.195499",
     "status": "completed"
    },
    "tags": []
   },
   "outputs": [],
   "source": [
    "scaler = StandardScaler()\n",
    "X_scaled = scaler.fit_transform(X)\n",
    "X_test_scaled = scaler.transform(X_test)"
   ]
  },
  {
   "cell_type": "code",
   "execution_count": 11,
   "id": "d6921022",
   "metadata": {
    "execution": {
     "iopub.execute_input": "2025-07-30T11:33:27.251080Z",
     "iopub.status.busy": "2025-07-30T11:33:27.250747Z",
     "iopub.status.idle": "2025-07-30T11:33:27.277530Z",
     "shell.execute_reply": "2025-07-30T11:33:27.276727Z"
    },
    "papermill": {
     "duration": 0.032617,
     "end_time": "2025-07-30T11:33:27.279198",
     "exception": false,
     "start_time": "2025-07-30T11:33:27.246581",
     "status": "completed"
    },
    "tags": []
   },
   "outputs": [],
   "source": [
    "y = train['Personality']\n",
    "X = train.drop(columns=['id', 'Personality'])\n",
    "X_test = test.drop(columns=['id'])\n",
    "imputer = SimpleImputer(strategy='mean')\n",
    "X_imputed = imputer.fit_transform(X)\n",
    "X_test_imputed = imputer.transform(X_test)\n",
    "scaler = StandardScaler()\n",
    "X_scaled = scaler.fit_transform(X_imputed)\n",
    "X_test_scaled = scaler.transform(X_test_imputed)"
   ]
  },
  {
   "cell_type": "code",
   "execution_count": 12,
   "id": "17621db5",
   "metadata": {
    "execution": {
     "iopub.execute_input": "2025-07-30T11:33:27.288142Z",
     "iopub.status.busy": "2025-07-30T11:33:27.287304Z",
     "iopub.status.idle": "2025-07-30T11:33:29.894328Z",
     "shell.execute_reply": "2025-07-30T11:33:29.893475Z"
    },
    "papermill": {
     "duration": 2.613168,
     "end_time": "2025-07-30T11:33:29.896100",
     "exception": false,
     "start_time": "2025-07-30T11:33:27.282932",
     "status": "completed"
    },
    "tags": []
   },
   "outputs": [
    {
     "name": "stdout",
     "output_type": "stream",
     "text": [
      "[LightGBM] [Info] Number of positive: 4825, number of negative: 13699\n",
      "[LightGBM] [Info] Auto-choosing row-wise multi-threading, the overhead of testing was 0.001618 seconds.\n",
      "You can set `force_row_wise=true` to remove the overhead.\n",
      "And if memory is not enough, you can set `force_col_wise=true`.\n",
      "[LightGBM] [Info] Total Bins 73\n",
      "[LightGBM] [Info] Number of data points in the train set: 18524, number of used features: 7\n",
      "[LightGBM] [Info] [binary:BoostFromScore]: pavg=0.260473 -> initscore=-1.043512\n",
      "[LightGBM] [Info] Start training from score -1.043512\n"
     ]
    }
   ],
   "source": [
    "ensemble.fit(X_scaled, y)\n",
    "preds = ensemble.predict(X_test_scaled)"
   ]
  },
  {
   "cell_type": "code",
   "execution_count": 13,
   "id": "4544a28f",
   "metadata": {
    "execution": {
     "iopub.execute_input": "2025-07-30T11:33:29.905259Z",
     "iopub.status.busy": "2025-07-30T11:33:29.904910Z",
     "iopub.status.idle": "2025-07-30T11:33:29.911460Z",
     "shell.execute_reply": "2025-07-30T11:33:29.910493Z"
    },
    "papermill": {
     "duration": 0.012665,
     "end_time": "2025-07-30T11:33:29.913333",
     "exception": false,
     "start_time": "2025-07-30T11:33:29.900668",
     "status": "completed"
    },
    "tags": []
   },
   "outputs": [],
   "source": [
    "label_map = {0: 'Extrovert', 1: 'Introvert'}\n",
    "preds_text = [label_map[p] for p in preds]\n"
   ]
  },
  {
   "cell_type": "code",
   "execution_count": 14,
   "id": "0f8f4acc",
   "metadata": {
    "execution": {
     "iopub.execute_input": "2025-07-30T11:33:29.921579Z",
     "iopub.status.busy": "2025-07-30T11:33:29.921192Z",
     "iopub.status.idle": "2025-07-30T11:33:29.941809Z",
     "shell.execute_reply": "2025-07-30T11:33:29.940308Z"
    },
    "papermill": {
     "duration": 0.026965,
     "end_time": "2025-07-30T11:33:29.943807",
     "exception": false,
     "start_time": "2025-07-30T11:33:29.916842",
     "status": "completed"
    },
    "tags": []
   },
   "outputs": [],
   "source": [
    "submission = pd.DataFrame({\n",
    "    'id': test['id'],\n",
    "    'Personality': preds_text\n",
    "})\n",
    "submission.to_csv('submission.csv', index=False)\n"
   ]
  }
 ],
 "metadata": {
  "kaggle": {
   "accelerator": "none",
   "dataSources": [
    {
     "databundleVersionId": 12738969,
     "sourceId": 91718,
     "sourceType": "competition"
    }
   ],
   "dockerImageVersionId": 31089,
   "isGpuEnabled": false,
   "isInternetEnabled": true,
   "language": "python",
   "sourceType": "notebook"
  },
  "kernelspec": {
   "display_name": "Python 3",
   "language": "python",
   "name": "python3"
  },
  "language_info": {
   "codemirror_mode": {
    "name": "ipython",
    "version": 3
   },
   "file_extension": ".py",
   "mimetype": "text/x-python",
   "name": "python",
   "nbconvert_exporter": "python",
   "pygments_lexer": "ipython3",
   "version": "3.11.13"
  },
  "papermill": {
   "default_parameters": {},
   "duration": 20.562182,
   "end_time": "2025-07-30T11:33:31.071570",
   "environment_variables": {},
   "exception": null,
   "input_path": "__notebook__.ipynb",
   "output_path": "__notebook__.ipynb",
   "parameters": {},
   "start_time": "2025-07-30T11:33:10.509388",
   "version": "2.6.0"
  }
 },
 "nbformat": 4,
 "nbformat_minor": 5
}
