{
 "cells": [
  {
   "cell_type": "code",
   "execution_count": 1,
   "id": "c6e79d68",
   "metadata": {
    "_cell_guid": "b1076dfc-b9ad-4769-8c92-a6c4dae69d19",
    "_uuid": "8f2839f25d086af736a60e9eeb907d3b93b6e0e5",
    "execution": {
     "iopub.execute_input": "2025-07-30T11:14:40.668980Z",
     "iopub.status.busy": "2025-07-30T11:14:40.668604Z",
     "iopub.status.idle": "2025-07-30T11:14:42.487411Z",
     "shell.execute_reply": "2025-07-30T11:14:42.486468Z"
    },
    "papermill": {
     "duration": 1.826197,
     "end_time": "2025-07-30T11:14:42.489003",
     "exception": false,
     "start_time": "2025-07-30T11:14:40.662806",
     "status": "completed"
    },
    "tags": []
   },
   "outputs": [
    {
     "name": "stdout",
     "output_type": "stream",
     "text": [
      "/kaggle/input/playground-series-s5e7/sample_submission.csv\n",
      "/kaggle/input/playground-series-s5e7/train.csv\n",
      "/kaggle/input/playground-series-s5e7/test.csv\n"
     ]
    }
   ],
   "source": [
    "import numpy as np # linear algebra\n",
    "import pandas as pd # data processing, CSV file I/O (e.g. pd.read_csv)\n",
    "\n",
    "import os\n",
    "for dirname, _, filenames in os.walk('/kaggle/input'):\n",
    "    for filename in filenames:\n",
    "        print(os.path.join(dirname, filename))"
   ]
  },
  {
   "cell_type": "markdown",
   "id": "98732e08",
   "metadata": {
    "papermill": {
     "duration": 0.003087,
     "end_time": "2025-07-30T11:14:42.495820",
     "exception": false,
     "start_time": "2025-07-30T11:14:42.492733",
     "status": "completed"
    },
    "tags": []
   },
   "source": [
    "# Libraries"
   ]
  },
  {
   "cell_type": "code",
   "execution_count": 2,
   "id": "f860be68",
   "metadata": {
    "execution": {
     "iopub.execute_input": "2025-07-30T11:14:42.504186Z",
     "iopub.status.busy": "2025-07-30T11:14:42.503278Z",
     "iopub.status.idle": "2025-07-30T11:14:45.053179Z",
     "shell.execute_reply": "2025-07-30T11:14:45.052363Z"
    },
    "papermill": {
     "duration": 2.555549,
     "end_time": "2025-07-30T11:14:45.054721",
     "exception": false,
     "start_time": "2025-07-30T11:14:42.499172",
     "status": "completed"
    },
    "tags": []
   },
   "outputs": [],
   "source": [
    "import pandas as pd\n",
    "import numpy as np\n",
    "import matplotlib.pyplot as plt\n",
    "import seaborn as sns\n",
    "\n",
    "from sklearn.model_selection import train_test_split, cross_val_score\n",
    "from sklearn.preprocessing import LabelEncoder, StandardScaler\n",
    "from sklearn.ensemble import RandomForestClassifier\n",
    "from sklearn.linear_model import LogisticRegression\n",
    "from sklearn.metrics import accuracy_score, classification_report"
   ]
  },
  {
   "cell_type": "markdown",
   "id": "f5ff4974",
   "metadata": {
    "papermill": {
     "duration": 0.00294,
     "end_time": "2025-07-30T11:14:45.061117",
     "exception": false,
     "start_time": "2025-07-30T11:14:45.058177",
     "status": "completed"
    },
    "tags": []
   },
   "source": [
    "# DATA"
   ]
  },
  {
   "cell_type": "code",
   "execution_count": 3,
   "id": "bd11ee20",
   "metadata": {
    "execution": {
     "iopub.execute_input": "2025-07-30T11:14:45.069005Z",
     "iopub.status.busy": "2025-07-30T11:14:45.068612Z",
     "iopub.status.idle": "2025-07-30T11:14:45.136033Z",
     "shell.execute_reply": "2025-07-30T11:14:45.135132Z"
    },
    "papermill": {
     "duration": 0.073454,
     "end_time": "2025-07-30T11:14:45.137710",
     "exception": false,
     "start_time": "2025-07-30T11:14:45.064256",
     "status": "completed"
    },
    "tags": []
   },
   "outputs": [],
   "source": [
    "train = pd.read_csv('/kaggle/input/playground-series-s5e7/train.csv')\n",
    "test = pd.read_csv('/kaggle/input/playground-series-s5e7/test.csv')\n",
    "sample_submission = pd.read_csv('/kaggle/input/playground-series-s5e7/sample_submission.csv')\n"
   ]
  },
  {
   "cell_type": "code",
   "execution_count": 4,
   "id": "71e2eb19",
   "metadata": {
    "execution": {
     "iopub.execute_input": "2025-07-30T11:14:45.145656Z",
     "iopub.status.busy": "2025-07-30T11:14:45.145337Z",
     "iopub.status.idle": "2025-07-30T11:14:45.169815Z",
     "shell.execute_reply": "2025-07-30T11:14:45.168885Z"
    },
    "papermill": {
     "duration": 0.032772,
     "end_time": "2025-07-30T11:14:45.174020",
     "exception": false,
     "start_time": "2025-07-30T11:14:45.141248",
     "status": "completed"
    },
    "tags": []
   },
   "outputs": [
    {
     "name": "stdout",
     "output_type": "stream",
     "text": [
      "Train shape: (18524, 9)\n",
      "Test shape: (6175, 8)\n",
      "\n",
      "Train Head:\n",
      "   id  Time_spent_Alone Stage_fear  Social_event_attendance  Going_outside  \\\n",
      "0   0               0.0         No                      6.0            4.0   \n",
      "1   1               1.0         No                      7.0            3.0   \n",
      "2   2               6.0        Yes                      1.0            0.0   \n",
      "3   3               3.0         No                      7.0            3.0   \n",
      "4   4               1.0         No                      4.0            4.0   \n",
      "\n",
      "  Drained_after_socializing  Friends_circle_size  Post_frequency Personality  \n",
      "0                        No                 15.0             5.0   Extrovert  \n",
      "1                        No                 10.0             8.0   Extrovert  \n",
      "2                       NaN                  3.0             0.0   Introvert  \n",
      "3                        No                 11.0             5.0   Extrovert  \n",
      "4                        No                 13.0             NaN   Extrovert  \n",
      "\n",
      "Target Distribution:\n",
      "Personality\n",
      "Extrovert    0.739527\n",
      "Introvert    0.260473\n",
      "Name: proportion, dtype: float64\n"
     ]
    },
    {
     "name": "stderr",
     "output_type": "stream",
     "text": [
      "/usr/local/lib/python3.11/dist-packages/pandas/io/formats/format.py:1458: RuntimeWarning: invalid value encountered in greater\n",
      "  has_large_values = (abs_vals > 1e6).any()\n",
      "/usr/local/lib/python3.11/dist-packages/pandas/io/formats/format.py:1459: RuntimeWarning: invalid value encountered in less\n",
      "  has_small_values = ((abs_vals < 10 ** (-self.digits)) & (abs_vals > 0)).any()\n",
      "/usr/local/lib/python3.11/dist-packages/pandas/io/formats/format.py:1459: RuntimeWarning: invalid value encountered in greater\n",
      "  has_small_values = ((abs_vals < 10 ** (-self.digits)) & (abs_vals > 0)).any()\n"
     ]
    }
   ],
   "source": [
    "print(\"Train shape:\", train.shape)\n",
    "print(\"Test shape:\", test.shape)\n",
    "\n",
    "print(\"\\nTrain Head:\")\n",
    "print(train.head())\n",
    "\n",
    "print(\"\\nTarget Distribution:\")\n",
    "print(train['Personality'].value_counts(normalize=True))\n"
   ]
  },
  {
   "cell_type": "markdown",
   "id": "c5a39531",
   "metadata": {
    "papermill": {
     "duration": 0.003206,
     "end_time": "2025-07-30T11:14:45.184987",
     "exception": false,
     "start_time": "2025-07-30T11:14:45.181781",
     "status": "completed"
    },
    "tags": []
   },
   "source": [
    "# Label Encoding"
   ]
  },
  {
   "cell_type": "code",
   "execution_count": 5,
   "id": "68f7aec0",
   "metadata": {
    "execution": {
     "iopub.execute_input": "2025-07-30T11:14:45.192742Z",
     "iopub.status.busy": "2025-07-30T11:14:45.192439Z",
     "iopub.status.idle": "2025-07-30T11:14:45.200666Z",
     "shell.execute_reply": "2025-07-30T11:14:45.199942Z"
    },
    "papermill": {
     "duration": 0.013564,
     "end_time": "2025-07-30T11:14:45.201878",
     "exception": false,
     "start_time": "2025-07-30T11:14:45.188314",
     "status": "completed"
    },
    "tags": []
   },
   "outputs": [],
   "source": [
    "le = LabelEncoder()\n",
    "train['Personality'] = le.fit_transform(train['Personality'])  # Extrovert = 0, Introvert = 1\n"
   ]
  },
  {
   "cell_type": "markdown",
   "id": "5562630f",
   "metadata": {
    "papermill": {
     "duration": 0.003013,
     "end_time": "2025-07-30T11:14:45.208454",
     "exception": false,
     "start_time": "2025-07-30T11:14:45.205441",
     "status": "completed"
    },
    "tags": []
   },
   "source": [
    "# Model "
   ]
  },
  {
   "cell_type": "code",
   "execution_count": 6,
   "id": "f109a7e7",
   "metadata": {
    "execution": {
     "iopub.execute_input": "2025-07-30T11:14:45.216367Z",
     "iopub.status.busy": "2025-07-30T11:14:45.215697Z",
     "iopub.status.idle": "2025-07-30T11:14:45.221357Z",
     "shell.execute_reply": "2025-07-30T11:14:45.220440Z"
    },
    "papermill": {
     "duration": 0.010896,
     "end_time": "2025-07-30T11:14:45.222582",
     "exception": false,
     "start_time": "2025-07-30T11:14:45.211686",
     "status": "completed"
    },
    "tags": []
   },
   "outputs": [
    {
     "name": "stdout",
     "output_type": "stream",
     "text": [
      "Kategorik sütunlar: ['Stage_fear', 'Drained_after_socializing']\n"
     ]
    }
   ],
   "source": [
    "non_numeric_cols = train.select_dtypes(include='object').columns\n",
    "print(\"Kategorik sütunlar:\", non_numeric_cols.tolist())"
   ]
  },
  {
   "cell_type": "code",
   "execution_count": 7,
   "id": "271a826f",
   "metadata": {
    "execution": {
     "iopub.execute_input": "2025-07-30T11:14:45.231894Z",
     "iopub.status.busy": "2025-07-30T11:14:45.231307Z",
     "iopub.status.idle": "2025-07-30T11:14:45.248805Z",
     "shell.execute_reply": "2025-07-30T11:14:45.248112Z"
    },
    "papermill": {
     "duration": 0.022963,
     "end_time": "2025-07-30T11:14:45.250133",
     "exception": false,
     "start_time": "2025-07-30T11:14:45.227170",
     "status": "completed"
    },
    "tags": []
   },
   "outputs": [],
   "source": [
    "from sklearn.preprocessing import LabelEncoder\n",
    "\n",
    "for col in ['Stage_fear', 'Drained_after_socializing']:\n",
    "    le = LabelEncoder()\n",
    "    train[col] = le.fit_transform(train[col].astype(str))\n",
    "    test[col] = le.transform(test[col].astype(str))"
   ]
  },
  {
   "cell_type": "code",
   "execution_count": 8,
   "id": "f14901d0",
   "metadata": {
    "execution": {
     "iopub.execute_input": "2025-07-30T11:14:45.258014Z",
     "iopub.status.busy": "2025-07-30T11:14:45.257750Z",
     "iopub.status.idle": "2025-07-30T11:14:45.294436Z",
     "shell.execute_reply": "2025-07-30T11:14:45.293562Z"
    },
    "papermill": {
     "duration": 0.042384,
     "end_time": "2025-07-30T11:14:45.296006",
     "exception": false,
     "start_time": "2025-07-30T11:14:45.253622",
     "status": "completed"
    },
    "tags": []
   },
   "outputs": [],
   "source": [
    "from sklearn.impute import SimpleImputer\n",
    "\n",
    "imputer = SimpleImputer(strategy='mean')  \n",
    "X = train.drop(columns=['id', 'Personality'])\n",
    "X = pd.DataFrame(imputer.fit_transform(X), columns=X.columns)\n",
    "\n",
    "X_test = test.drop(columns=['id'])\n",
    "X_test = pd.DataFrame(imputer.transform(X_test), columns=X_test.columns)\n",
    "\n",
    "y = train['Personality']\n"
   ]
  },
  {
   "cell_type": "code",
   "execution_count": 9,
   "id": "d51ddeab",
   "metadata": {
    "execution": {
     "iopub.execute_input": "2025-07-30T11:14:45.303945Z",
     "iopub.status.busy": "2025-07-30T11:14:45.303642Z",
     "iopub.status.idle": "2025-07-30T11:14:45.312574Z",
     "shell.execute_reply": "2025-07-30T11:14:45.311909Z"
    },
    "papermill": {
     "duration": 0.014281,
     "end_time": "2025-07-30T11:14:45.313831",
     "exception": false,
     "start_time": "2025-07-30T11:14:45.299550",
     "status": "completed"
    },
    "tags": []
   },
   "outputs": [],
   "source": [
    "X = train.drop(columns=['id', 'Personality'])\n",
    "X_test = test.drop(columns=['id'])\n",
    "y = train['Personality']\n",
    "\n",
    "X = X.dropna()\n",
    "y = y[X.index]  \n"
   ]
  },
  {
   "cell_type": "code",
   "execution_count": 10,
   "id": "86eaf48c",
   "metadata": {
    "execution": {
     "iopub.execute_input": "2025-07-30T11:14:45.321503Z",
     "iopub.status.busy": "2025-07-30T11:14:45.321241Z",
     "iopub.status.idle": "2025-07-30T11:14:48.807601Z",
     "shell.execute_reply": "2025-07-30T11:14:48.806597Z"
    },
    "papermill": {
     "duration": 3.49172,
     "end_time": "2025-07-30T11:14:48.808963",
     "exception": false,
     "start_time": "2025-07-30T11:14:45.317243",
     "status": "completed"
    },
    "tags": []
   },
   "outputs": [
    {
     "name": "stdout",
     "output_type": "stream",
     "text": [
      "Mean CV Accuracy: 0.9648507755215562\n"
     ]
    }
   ],
   "source": [
    "scaler = StandardScaler()\n",
    "X_scaled = scaler.fit_transform(X)\n",
    "X_test_scaled = scaler.transform(X_test)\n",
    "\n",
    "model = RandomForestClassifier(random_state=42)\n",
    "scores = cross_val_score(model, X_scaled, y, cv=5, scoring='accuracy')\n",
    "print(\"Mean CV Accuracy:\", scores.mean())\n"
   ]
  },
  {
   "cell_type": "code",
   "execution_count": 11,
   "id": "88744b6b",
   "metadata": {
    "execution": {
     "iopub.execute_input": "2025-07-30T11:14:48.816886Z",
     "iopub.status.busy": "2025-07-30T11:14:48.816623Z",
     "iopub.status.idle": "2025-07-30T11:14:48.839550Z",
     "shell.execute_reply": "2025-07-30T11:14:48.838792Z"
    },
    "papermill": {
     "duration": 0.028618,
     "end_time": "2025-07-30T11:14:48.841079",
     "exception": false,
     "start_time": "2025-07-30T11:14:48.812461",
     "status": "completed"
    },
    "tags": []
   },
   "outputs": [],
   "source": [
    "y = train['Personality']\n",
    "X = train.drop(columns=['id', 'Personality'])\n",
    "X_test = test.drop(columns=['id'])\n",
    "imputer = SimpleImputer(strategy='mean')\n",
    "X_imputed = imputer.fit_transform(X)\n",
    "X_test_imputed = imputer.transform(X_test)\n",
    "scaler = StandardScaler()\n",
    "X_scaled = scaler.fit_transform(X_imputed)\n",
    "X_test_scaled = scaler.transform(X_test_imputed)"
   ]
  },
  {
   "cell_type": "code",
   "execution_count": 12,
   "id": "4222116e",
   "metadata": {
    "execution": {
     "iopub.execute_input": "2025-07-30T11:14:48.849425Z",
     "iopub.status.busy": "2025-07-30T11:14:48.849119Z",
     "iopub.status.idle": "2025-07-30T11:14:50.112947Z",
     "shell.execute_reply": "2025-07-30T11:14:50.112199Z"
    },
    "papermill": {
     "duration": 1.269601,
     "end_time": "2025-07-30T11:14:50.114398",
     "exception": false,
     "start_time": "2025-07-30T11:14:48.844797",
     "status": "completed"
    },
    "tags": []
   },
   "outputs": [],
   "source": [
    "model.fit(X_scaled, y)\n",
    "preds = model.predict(X_test_scaled)"
   ]
  },
  {
   "cell_type": "code",
   "execution_count": 13,
   "id": "995e1f03",
   "metadata": {
    "execution": {
     "iopub.execute_input": "2025-07-30T11:14:50.122372Z",
     "iopub.status.busy": "2025-07-30T11:14:50.122083Z",
     "iopub.status.idle": "2025-07-30T11:14:50.127221Z",
     "shell.execute_reply": "2025-07-30T11:14:50.126396Z"
    },
    "papermill": {
     "duration": 0.010886,
     "end_time": "2025-07-30T11:14:50.128810",
     "exception": false,
     "start_time": "2025-07-30T11:14:50.117924",
     "status": "completed"
    },
    "tags": []
   },
   "outputs": [],
   "source": [
    "label_map = {0: 'Extrovert', 1: 'Introvert'}\n",
    "preds_text = [label_map[p] for p in preds]\n"
   ]
  },
  {
   "cell_type": "code",
   "execution_count": 14,
   "id": "69b6560d",
   "metadata": {
    "execution": {
     "iopub.execute_input": "2025-07-30T11:14:50.137490Z",
     "iopub.status.busy": "2025-07-30T11:14:50.136814Z",
     "iopub.status.idle": "2025-07-30T11:14:50.155115Z",
     "shell.execute_reply": "2025-07-30T11:14:50.153552Z"
    },
    "papermill": {
     "duration": 0.024379,
     "end_time": "2025-07-30T11:14:50.156846",
     "exception": false,
     "start_time": "2025-07-30T11:14:50.132467",
     "status": "completed"
    },
    "tags": []
   },
   "outputs": [],
   "source": [
    "submission = pd.DataFrame({\n",
    "    'id': test['id'],\n",
    "    'Personality': preds_text\n",
    "})\n",
    "submission.to_csv('submission.csv', index=False)"
   ]
  }
 ],
 "metadata": {
  "kaggle": {
   "accelerator": "none",
   "dataSources": [
    {
     "databundleVersionId": 12738969,
     "sourceId": 91718,
     "sourceType": "competition"
    }
   ],
   "dockerImageVersionId": 31089,
   "isGpuEnabled": false,
   "isInternetEnabled": false,
   "language": "python",
   "sourceType": "notebook"
  },
  "kernelspec": {
   "display_name": "Python 3",
   "language": "python",
   "name": "python3"
  },
  "language_info": {
   "codemirror_mode": {
    "name": "ipython",
    "version": 3
   },
   "file_extension": ".py",
   "mimetype": "text/x-python",
   "name": "python",
   "nbconvert_exporter": "python",
   "pygments_lexer": "ipython3",
   "version": "3.11.13"
  },
  "papermill": {
   "default_parameters": {},
   "duration": 14.797052,
   "end_time": "2025-07-30T11:14:50.880532",
   "environment_variables": {},
   "exception": null,
   "input_path": "__notebook__.ipynb",
   "output_path": "__notebook__.ipynb",
   "parameters": {},
   "start_time": "2025-07-30T11:14:36.083480",
   "version": "2.6.0"
  }
 },
 "nbformat": 4,
 "nbformat_minor": 5
}
