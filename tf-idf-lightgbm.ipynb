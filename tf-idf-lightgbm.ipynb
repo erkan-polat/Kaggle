{
 "cells": [
  {
   "cell_type": "code",
   "execution_count": 1,
   "id": "ea49a73d",
   "metadata": {
    "_cell_guid": "b1076dfc-b9ad-4769-8c92-a6c4dae69d19",
    "_uuid": "8f2839f25d086af736a60e9eeb907d3b93b6e0e5",
    "execution": {
     "iopub.execute_input": "2025-07-30T06:49:52.724346Z",
     "iopub.status.busy": "2025-07-30T06:49:52.722971Z",
     "iopub.status.idle": "2025-07-30T06:49:55.114773Z",
     "shell.execute_reply": "2025-07-30T06:49:55.113416Z"
    },
    "papermill": {
     "duration": 2.400938,
     "end_time": "2025-07-30T06:49:55.116687",
     "exception": false,
     "start_time": "2025-07-30T06:49:52.715749",
     "status": "completed"
    },
    "tags": []
   },
   "outputs": [
    {
     "name": "stdout",
     "output_type": "stream",
     "text": [
      "/kaggle/input/jigsaw-agile-community-rules/sample_submission.csv\n",
      "/kaggle/input/jigsaw-agile-community-rules/train.csv\n",
      "/kaggle/input/jigsaw-agile-community-rules/test.csv\n"
     ]
    }
   ],
   "source": [
    "import numpy as np # linear algebra\n",
    "import pandas as pd # data processing, CSV file I/O (e.g. pd.read_csv)\n",
    "\n",
    "import os\n",
    "for dirname, _, filenames in os.walk('/kaggle/input'):\n",
    "    for filename in filenames:\n",
    "        print(os.path.join(dirname, filename))\n"
   ]
  },
  {
   "cell_type": "markdown",
   "id": "b6bf91e5",
   "metadata": {
    "papermill": {
     "duration": 0.002761,
     "end_time": "2025-07-30T06:49:55.123188",
     "exception": false,
     "start_time": "2025-07-30T06:49:55.120427",
     "status": "completed"
    },
    "tags": []
   },
   "source": [
    "# Libraries"
   ]
  },
  {
   "cell_type": "code",
   "execution_count": 2,
   "id": "3a1bc9c9",
   "metadata": {
    "execution": {
     "iopub.execute_input": "2025-07-30T06:49:55.130644Z",
     "iopub.status.busy": "2025-07-30T06:49:55.130189Z",
     "iopub.status.idle": "2025-07-30T06:50:04.635431Z",
     "shell.execute_reply": "2025-07-30T06:50:04.634376Z"
    },
    "papermill": {
     "duration": 9.511252,
     "end_time": "2025-07-30T06:50:04.637461",
     "exception": false,
     "start_time": "2025-07-30T06:49:55.126209",
     "status": "completed"
    },
    "tags": []
   },
   "outputs": [],
   "source": [
    "import pandas as pd\n",
    "import numpy as np\n",
    "from sklearn.feature_extraction.text import TfidfVectorizer\n",
    "from sklearn.model_selection import StratifiedKFold\n",
    "from sklearn.metrics import roc_auc_score\n",
    "from lightgbm import LGBMClassifier\n",
    "from scipy.sparse import hstack\n"
   ]
  },
  {
   "cell_type": "markdown",
   "id": "db5ab818",
   "metadata": {
    "papermill": {
     "duration": 0.003128,
     "end_time": "2025-07-30T06:50:04.644175",
     "exception": false,
     "start_time": "2025-07-30T06:50:04.641047",
     "status": "completed"
    },
    "tags": []
   },
   "source": [
    "# DATA"
   ]
  },
  {
   "cell_type": "code",
   "execution_count": 3,
   "id": "8c23bf8d",
   "metadata": {
    "execution": {
     "iopub.execute_input": "2025-07-30T06:50:04.651993Z",
     "iopub.status.busy": "2025-07-30T06:50:04.651357Z",
     "iopub.status.idle": "2025-07-30T06:50:04.739699Z",
     "shell.execute_reply": "2025-07-30T06:50:04.738679Z"
    },
    "papermill": {
     "duration": 0.094533,
     "end_time": "2025-07-30T06:50:04.741797",
     "exception": false,
     "start_time": "2025-07-30T06:50:04.647264",
     "status": "completed"
    },
    "tags": []
   },
   "outputs": [],
   "source": [
    "df_train = pd.read_csv('/kaggle/input/jigsaw-agile-community-rules/train.csv')\n",
    "df_test = pd.read_csv('/kaggle/input/jigsaw-agile-community-rules/test.csv')\n"
   ]
  },
  {
   "cell_type": "markdown",
   "id": "c62275f2",
   "metadata": {
    "papermill": {
     "duration": 0.00283,
     "end_time": "2025-07-30T06:50:04.747844",
     "exception": false,
     "start_time": "2025-07-30T06:50:04.745014",
     "status": "completed"
    },
    "tags": []
   },
   "source": [
    "#  TF-IDF"
   ]
  },
  {
   "cell_type": "code",
   "execution_count": 4,
   "id": "9f98fc02",
   "metadata": {
    "execution": {
     "iopub.execute_input": "2025-07-30T06:50:04.755300Z",
     "iopub.status.busy": "2025-07-30T06:50:04.754957Z",
     "iopub.status.idle": "2025-07-30T06:50:04.986689Z",
     "shell.execute_reply": "2025-07-30T06:50:04.985479Z"
    },
    "papermill": {
     "duration": 0.237693,
     "end_time": "2025-07-30T06:50:04.988517",
     "exception": false,
     "start_time": "2025-07-30T06:50:04.750824",
     "status": "completed"
    },
    "tags": []
   },
   "outputs": [],
   "source": [
    "vectorizer = TfidfVectorizer(max_features=20000, ngram_range=(1,2), stop_words='english')\n",
    "X_tfidf = vectorizer.fit_transform(df_train['body'])\n",
    "X_test_tfidf = vectorizer.transform(df_test['body'])\n",
    "\n",
    "df_train['body_len'] = df_train['body'].apply(len)\n",
    "df_test['body_len'] = df_test['body'].apply(len)\n",
    "\n",
    "X = hstack([X_tfidf, df_train[['body_len']].values])\n",
    "X_test = hstack([X_test_tfidf, df_test[['body_len']].values])\n",
    "\n",
    "y = df_train['rule_violation']"
   ]
  },
  {
   "cell_type": "markdown",
   "id": "96d38657",
   "metadata": {
    "papermill": {
     "duration": 0.002797,
     "end_time": "2025-07-30T06:50:04.995000",
     "exception": false,
     "start_time": "2025-07-30T06:50:04.992203",
     "status": "completed"
    },
    "tags": []
   },
   "source": [
    "# LightGBM ile 5-Fold CV"
   ]
  },
  {
   "cell_type": "code",
   "execution_count": 5,
   "id": "2d2b63c9",
   "metadata": {
    "execution": {
     "iopub.execute_input": "2025-07-30T06:50:05.002710Z",
     "iopub.status.busy": "2025-07-30T06:50:05.002276Z",
     "iopub.status.idle": "2025-07-30T06:50:09.812257Z",
     "shell.execute_reply": "2025-07-30T06:50:09.811271Z"
    },
    "papermill": {
     "duration": 4.816176,
     "end_time": "2025-07-30T06:50:09.814194",
     "exception": false,
     "start_time": "2025-07-30T06:50:04.998018",
     "status": "completed"
    },
    "tags": []
   },
   "outputs": [
    {
     "name": "stdout",
     "output_type": "stream",
     "text": [
      "[LightGBM] [Info] Number of positive: 825, number of negative: 798\n",
      "[LightGBM] [Info] Auto-choosing col-wise multi-threading, the overhead of testing was 0.002187 seconds.\n",
      "You can set `force_col_wise=true` to remove the overhead.\n",
      "[LightGBM] [Info] Total Bins 3030\n",
      "[LightGBM] [Info] Number of data points in the train set: 1623, number of used features: 186\n",
      "[LightGBM] [Info] [binary:BoostFromScore]: pavg=0.508318 -> initscore=0.033275\n",
      "[LightGBM] [Info] Start training from score 0.033275\n",
      "Fold 1 AUC: 0.7969\n",
      "[LightGBM] [Info] Number of positive: 825, number of negative: 798\n",
      "[LightGBM] [Info] Auto-choosing row-wise multi-threading, the overhead of testing was 0.002129 seconds.\n",
      "You can set `force_row_wise=true` to remove the overhead.\n",
      "And if memory is not enough, you can set `force_col_wise=true`.\n",
      "[LightGBM] [Info] Total Bins 3052\n",
      "[LightGBM] [Info] Number of data points in the train set: 1623, number of used features: 184\n",
      "[LightGBM] [Info] [binary:BoostFromScore]: pavg=0.508318 -> initscore=0.033275\n",
      "[LightGBM] [Info] Start training from score 0.033275\n",
      "Fold 2 AUC: 0.7114\n",
      "[LightGBM] [Info] Number of positive: 825, number of negative: 798\n",
      "[LightGBM] [Info] Auto-choosing row-wise multi-threading, the overhead of testing was 0.002234 seconds.\n",
      "You can set `force_row_wise=true` to remove the overhead.\n",
      "And if memory is not enough, you can set `force_col_wise=true`.\n",
      "[LightGBM] [Info] Total Bins 3038\n",
      "[LightGBM] [Info] Number of data points in the train set: 1623, number of used features: 189\n",
      "[LightGBM] [Info] [binary:BoostFromScore]: pavg=0.508318 -> initscore=0.033275\n",
      "[LightGBM] [Info] Start training from score 0.033275\n",
      "Fold 3 AUC: 0.7363\n",
      "[LightGBM] [Info] Number of positive: 824, number of negative: 799\n",
      "[LightGBM] [Info] Auto-choosing row-wise multi-threading, the overhead of testing was 0.002250 seconds.\n",
      "You can set `force_row_wise=true` to remove the overhead.\n",
      "And if memory is not enough, you can set `force_col_wise=true`.\n",
      "[LightGBM] [Info] Total Bins 3092\n",
      "[LightGBM] [Info] Number of data points in the train set: 1623, number of used features: 193\n",
      "[LightGBM] [Info] [binary:BoostFromScore]: pavg=0.507702 -> initscore=0.030810\n",
      "[LightGBM] [Info] Start training from score 0.030810\n",
      "Fold 4 AUC: 0.7843\n",
      "[LightGBM] [Info] Number of positive: 825, number of negative: 799\n",
      "[LightGBM] [Info] Auto-choosing row-wise multi-threading, the overhead of testing was 0.002086 seconds.\n",
      "You can set `force_row_wise=true` to remove the overhead.\n",
      "And if memory is not enough, you can set `force_col_wise=true`.\n",
      "[LightGBM] [Info] Total Bins 3019\n",
      "[LightGBM] [Info] Number of data points in the train set: 1624, number of used features: 175\n",
      "[LightGBM] [Info] [binary:BoostFromScore]: pavg=0.508005 -> initscore=0.032022\n",
      "[LightGBM] [Info] Start training from score 0.032022\n",
      "Fold 5 AUC: 0.7376\n",
      "\n",
      "Mean AUC: 0.7533\n"
     ]
    }
   ],
   "source": [
    "from scipy.sparse import csr_matrix\n",
    "\n",
    "X = csr_matrix(X)         \n",
    "X_test = csr_matrix(X_test)  \n",
    "\n",
    "skf = StratifiedKFold(n_splits=5, shuffle=True, random_state=42)\n",
    "auc_scores = []\n",
    "\n",
    "for fold, (train_idx, val_idx) in enumerate(skf.split(X, y)):\n",
    "    X_train, X_val = X[train_idx], X[val_idx]\n",
    "    y_train, y_val = y.iloc[train_idx], y.iloc[val_idx]\n",
    "    \n",
    "    model = LGBMClassifier(n_estimators=500, learning_rate=0.1)\n",
    "    model.fit(X_train, y_train)\n",
    "    \n",
    "    y_val_pred = model.predict_proba(X_val)[:,1]\n",
    "    score = roc_auc_score(y_val, y_val_pred)\n",
    "    print(f\"Fold {fold+1} AUC: {score:.4f}\")\n",
    "    auc_scores.append(score)\n",
    "\n",
    "print(f\"\\nMean AUC: {np.mean(auc_scores):.4f}\")\n"
   ]
  },
  {
   "cell_type": "code",
   "execution_count": 6,
   "id": "1f5a00e3",
   "metadata": {
    "execution": {
     "iopub.execute_input": "2025-07-30T06:50:09.824028Z",
     "iopub.status.busy": "2025-07-30T06:50:09.823663Z",
     "iopub.status.idle": "2025-07-30T06:50:14.349820Z",
     "shell.execute_reply": "2025-07-30T06:50:14.348624Z"
    },
    "papermill": {
     "duration": 4.532409,
     "end_time": "2025-07-30T06:50:14.351516",
     "exception": false,
     "start_time": "2025-07-30T06:50:09.819107",
     "status": "completed"
    },
    "tags": []
   },
   "outputs": [
    {
     "name": "stdout",
     "output_type": "stream",
     "text": [
      "[LightGBM] [Info] Number of positive: 825, number of negative: 798\n",
      "[LightGBM] [Info] Auto-choosing row-wise multi-threading, the overhead of testing was 0.002258 seconds.\n",
      "You can set `force_row_wise=true` to remove the overhead.\n",
      "And if memory is not enough, you can set `force_col_wise=true`.\n",
      "[LightGBM] [Info] Total Bins 3030\n",
      "[LightGBM] [Info] Number of data points in the train set: 1623, number of used features: 186\n",
      "[LightGBM] [Info] [binary:BoostFromScore]: pavg=0.508318 -> initscore=0.033275\n",
      "[LightGBM] [Info] Start training from score 0.033275\n",
      "Fold 1 AUC: 0.7969\n",
      "[LightGBM] [Info] Number of positive: 825, number of negative: 798\n",
      "[LightGBM] [Info] Auto-choosing row-wise multi-threading, the overhead of testing was 0.002087 seconds.\n",
      "You can set `force_row_wise=true` to remove the overhead.\n",
      "And if memory is not enough, you can set `force_col_wise=true`.\n",
      "[LightGBM] [Info] Total Bins 3052\n",
      "[LightGBM] [Info] Number of data points in the train set: 1623, number of used features: 184\n",
      "[LightGBM] [Info] [binary:BoostFromScore]: pavg=0.508318 -> initscore=0.033275\n",
      "[LightGBM] [Info] Start training from score 0.033275\n",
      "Fold 2 AUC: 0.7114\n",
      "[LightGBM] [Info] Number of positive: 825, number of negative: 798\n",
      "[LightGBM] [Info] Auto-choosing row-wise multi-threading, the overhead of testing was 0.002158 seconds.\n",
      "You can set `force_row_wise=true` to remove the overhead.\n",
      "And if memory is not enough, you can set `force_col_wise=true`.\n",
      "[LightGBM] [Info] Total Bins 3038\n",
      "[LightGBM] [Info] Number of data points in the train set: 1623, number of used features: 189\n",
      "[LightGBM] [Info] [binary:BoostFromScore]: pavg=0.508318 -> initscore=0.033275\n",
      "[LightGBM] [Info] Start training from score 0.033275\n",
      "Fold 3 AUC: 0.7363\n",
      "[LightGBM] [Info] Number of positive: 824, number of negative: 799\n",
      "[LightGBM] [Info] Auto-choosing row-wise multi-threading, the overhead of testing was 0.002280 seconds.\n",
      "You can set `force_row_wise=true` to remove the overhead.\n",
      "And if memory is not enough, you can set `force_col_wise=true`.\n",
      "[LightGBM] [Info] Total Bins 3092\n",
      "[LightGBM] [Info] Number of data points in the train set: 1623, number of used features: 193\n",
      "[LightGBM] [Info] [binary:BoostFromScore]: pavg=0.507702 -> initscore=0.030810\n",
      "[LightGBM] [Info] Start training from score 0.030810\n",
      "Fold 4 AUC: 0.7843\n",
      "[LightGBM] [Info] Number of positive: 825, number of negative: 799\n",
      "[LightGBM] [Info] Auto-choosing row-wise multi-threading, the overhead of testing was 0.002004 seconds.\n",
      "You can set `force_row_wise=true` to remove the overhead.\n",
      "And if memory is not enough, you can set `force_col_wise=true`.\n",
      "[LightGBM] [Info] Total Bins 3019\n",
      "[LightGBM] [Info] Number of data points in the train set: 1624, number of used features: 175\n",
      "[LightGBM] [Info] [binary:BoostFromScore]: pavg=0.508005 -> initscore=0.032022\n",
      "[LightGBM] [Info] Start training from score 0.032022\n",
      "Fold 5 AUC: 0.7376\n",
      "\n",
      "Mean AUC: 0.7533\n"
     ]
    }
   ],
   "source": [
    "skf = StratifiedKFold(n_splits=5, shuffle=True, random_state=42)\n",
    "auc_scores = []\n",
    "\n",
    "for fold, (train_idx, val_idx) in enumerate(skf.split(X, y)):\n",
    "    X_train, X_val = X[train_idx], X[val_idx]\n",
    "    y_train, y_val = y.iloc[train_idx], y.iloc[val_idx]\n",
    "    \n",
    "    model = LGBMClassifier(n_estimators=500, learning_rate=0.1)\n",
    "    model.fit(X_train, y_train)\n",
    "    \n",
    "    y_val_pred = model.predict_proba(X_val)[:,1]\n",
    "    score = roc_auc_score(y_val, y_val_pred)\n",
    "    print(f\"Fold {fold+1} AUC: {score:.4f}\")\n",
    "    auc_scores.append(score)\n",
    "\n",
    "print(f\"\\nMean AUC: {np.mean(auc_scores):.4f}\")\n"
   ]
  },
  {
   "cell_type": "code",
   "execution_count": 7,
   "id": "ea925655",
   "metadata": {
    "execution": {
     "iopub.execute_input": "2025-07-30T06:50:14.361283Z",
     "iopub.status.busy": "2025-07-30T06:50:14.360963Z",
     "iopub.status.idle": "2025-07-30T06:50:15.581684Z",
     "shell.execute_reply": "2025-07-30T06:50:15.580801Z"
    },
    "papermill": {
     "duration": 1.22794,
     "end_time": "2025-07-30T06:50:15.583405",
     "exception": false,
     "start_time": "2025-07-30T06:50:14.355465",
     "status": "completed"
    },
    "tags": []
   },
   "outputs": [
    {
     "name": "stdout",
     "output_type": "stream",
     "text": [
      "[LightGBM] [Info] Number of positive: 1031, number of negative: 998\n",
      "[LightGBM] [Info] Auto-choosing row-wise multi-threading, the overhead of testing was 0.005290 seconds.\n",
      "You can set `force_row_wise=true` to remove the overhead.\n",
      "And if memory is not enough, you can set `force_col_wise=true`.\n",
      "[LightGBM] [Info] Total Bins 4170\n",
      "[LightGBM] [Info] Number of data points in the train set: 2029, number of used features: 253\n",
      "[LightGBM] [Info] [binary:BoostFromScore]: pavg=0.508132 -> initscore=0.032531\n",
      "[LightGBM] [Info] Start training from score 0.032531\n"
     ]
    }
   ],
   "source": [
    "final_model = LGBMClassifier(n_estimators=500, learning_rate=0.1)\n",
    "final_model.fit(X, y)\n",
    "\n",
    "y_test_pred = final_model.predict_proba(X_test)[:,1]\n"
   ]
  },
  {
   "cell_type": "code",
   "execution_count": 8,
   "id": "3411a069",
   "metadata": {
    "execution": {
     "iopub.execute_input": "2025-07-30T06:50:15.594791Z",
     "iopub.status.busy": "2025-07-30T06:50:15.594233Z",
     "iopub.status.idle": "2025-07-30T06:50:15.608082Z",
     "shell.execute_reply": "2025-07-30T06:50:15.606918Z"
    },
    "papermill": {
     "duration": 0.02087,
     "end_time": "2025-07-30T06:50:15.609775",
     "exception": false,
     "start_time": "2025-07-30T06:50:15.588905",
     "status": "completed"
    },
    "tags": []
   },
   "outputs": [
    {
     "name": "stdout",
     "output_type": "stream",
     "text": [
      "✅ submission.csv başarıyla oluşturuldu.\n"
     ]
    }
   ],
   "source": [
    "submission = pd.DataFrame({\n",
    "    'row_id': df_test['row_id'],\n",
    "    'rule_violation': y_test_pred\n",
    "})\n",
    "\n",
    "submission.to_csv('submission.csv', index=False)\n",
    "print(\"✅ submission.csv başarıyla oluşturuldu.\")\n"
   ]
  }
 ],
 "metadata": {
  "kaggle": {
   "accelerator": "none",
   "dataSources": [
    {
     "databundleVersionId": 13121456,
     "sourceId": 94635,
     "sourceType": "competition"
    }
   ],
   "dockerImageVersionId": 31089,
   "isGpuEnabled": false,
   "isInternetEnabled": false,
   "language": "python",
   "sourceType": "notebook"
  },
  "kernelspec": {
   "display_name": "Python 3",
   "language": "python",
   "name": "python3"
  },
  "language_info": {
   "codemirror_mode": {
    "name": "ipython",
    "version": 3
   },
   "file_extension": ".py",
   "mimetype": "text/x-python",
   "name": "python",
   "nbconvert_exporter": "python",
   "pygments_lexer": "ipython3",
   "version": "3.11.13"
  },
  "papermill": {
   "default_parameters": {},
   "duration": 29.488321,
   "end_time": "2025-07-30T06:50:16.549292",
   "environment_variables": {},
   "exception": null,
   "input_path": "__notebook__.ipynb",
   "output_path": "__notebook__.ipynb",
   "parameters": {},
   "start_time": "2025-07-30T06:49:47.060971",
   "version": "2.6.0"
  }
 },
 "nbformat": 4,
 "nbformat_minor": 5
}
